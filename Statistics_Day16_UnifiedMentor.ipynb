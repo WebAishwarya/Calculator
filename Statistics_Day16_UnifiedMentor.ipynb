{
  "nbformat": 4,
  "nbformat_minor": 0,
  "metadata": {
    "colab": {
      "provenance": [],
      "authorship_tag": "ABX9TyNNUgBgiGFmjIO/V3OSt+CF",
      "include_colab_link": true
    },
    "kernelspec": {
      "name": "python3",
      "display_name": "Python 3"
    },
    "language_info": {
      "name": "python"
    }
  },
  "cells": [
    {
      "cell_type": "markdown",
      "metadata": {
        "id": "view-in-github",
        "colab_type": "text"
      },
      "source": [
        "<a href=\"https://colab.research.google.com/github/WebAishwarya/Data-Analyst_Unified-Mentor/blob/main/Statistics_Day16_UnifiedMentor.ipynb\" target=\"_parent\"><img src=\"https://colab.research.google.com/assets/colab-badge.svg\" alt=\"Open In Colab\"/></a>"
      ]
    },
    {
      "cell_type": "markdown",
      "source": [
        "# DAY 16\n",
        "\n",
        "\n",
        "---\n",
        "\n",
        "# Statistics - Variance & Standard Deviation\n",
        "\n",
        "# 16.1 Measures of Dispersion - Variance\n",
        "\n"
      ],
      "metadata": {
        "id": "ierNuA8OB2XT"
      }
    },
    {
      "cell_type": "code",
      "execution_count": null,
      "metadata": {
        "id": "nziYe8fu65WU"
      },
      "outputs": [],
      "source": [
        "import numpy as np"
      ]
    },
    {
      "cell_type": "markdown",
      "source": [
        "![population-variance.png](data:image/png;base64,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)"
      ],
      "metadata": {
        "id": "hxk1L4YH_pQ6"
      }
    },
    {
      "cell_type": "markdown",
      "source": [
        "## **Population Variance**"
      ],
      "metadata": {
        "id": "OYwAxbta6-D-"
      }
    },
    {
      "cell_type": "code",
      "source": [
        "population = np.arange(5,50,5)"
      ],
      "metadata": {
        "id": "Yv8kaWPo69MO"
      },
      "execution_count": null,
      "outputs": []
    },
    {
      "cell_type": "code",
      "source": [
        "population"
      ],
      "metadata": {
        "colab": {
          "base_uri": "https://localhost:8080/"
        },
        "id": "vnxayDBrDPkS",
        "outputId": "1eb15f45-2211-459e-cc50-d2495abcc51d"
      },
      "execution_count": null,
      "outputs": [
        {
          "output_type": "execute_result",
          "data": {
            "text/plain": [
              "array([ 5, 10, 15, 20, 25, 30, 35, 40, 45])"
            ]
          },
          "metadata": {},
          "execution_count": 8
        }
      ]
    },
    {
      "cell_type": "code",
      "source": [
        "pop_mean = sum(population)/len(population)"
      ],
      "metadata": {
        "id": "JGpSK4Cl69Oe"
      },
      "execution_count": null,
      "outputs": []
    },
    {
      "cell_type": "code",
      "source": [
        "pop_mean"
      ],
      "metadata": {
        "colab": {
          "base_uri": "https://localhost:8080/"
        },
        "id": "LQkzlYnp69pw",
        "outputId": "07c4df32-d765-43ee-b91d-9e67d8d3e7d4"
      },
      "execution_count": null,
      "outputs": [
        {
          "output_type": "execute_result",
          "data": {
            "text/plain": [
              "25.0"
            ]
          },
          "metadata": {},
          "execution_count": 10
        }
      ]
    },
    {
      "cell_type": "code",
      "source": [
        "sq_pop_deviation = [(i-pop_mean)**2 for i in population]"
      ],
      "metadata": {
        "id": "BuWUWbxd7C12"
      },
      "execution_count": null,
      "outputs": []
    },
    {
      "cell_type": "code",
      "source": [
        "sq_pop_deviation"
      ],
      "metadata": {
        "colab": {
          "base_uri": "https://localhost:8080/"
        },
        "id": "z86rXYAkEhf-",
        "outputId": "558e8b6d-de9b-4eee-d10d-49700f95f5bf"
      },
      "execution_count": null,
      "outputs": [
        {
          "output_type": "execute_result",
          "data": {
            "text/plain": [
              "[400.0, 225.0, 100.0, 25.0, 0.0, 25.0, 100.0, 225.0, 400.0]"
            ]
          },
          "metadata": {},
          "execution_count": 12
        }
      ]
    },
    {
      "cell_type": "code",
      "source": [
        "pop_variance = sum(sq_pop_deviation)/len(population)"
      ],
      "metadata": {
        "id": "9etVyWMN7C5I"
      },
      "execution_count": null,
      "outputs": []
    },
    {
      "cell_type": "code",
      "source": [
        "print('Population Variance : {}'.format(round(pop_variance,2)))"
      ],
      "metadata": {
        "colab": {
          "base_uri": "https://localhost:8080/"
        },
        "id": "ArwtwKg77C7F",
        "outputId": "09365b19-a62e-4993-9128-973d9a439d44"
      },
      "execution_count": null,
      "outputs": [
        {
          "output_type": "stream",
          "name": "stdout",
          "text": [
            "Population Variance : 166.67\n"
          ]
        }
      ]
    },
    {
      "cell_type": "markdown",
      "source": [
        "## **Sample Variance**"
      ],
      "metadata": {
        "id": "S2LDiMom7DS-"
      }
    },
    {
      "cell_type": "code",
      "source": [
        "sample = np.arange(5,25,5)"
      ],
      "metadata": {
        "id": "vuolZD7c-u2v"
      },
      "execution_count": null,
      "outputs": []
    },
    {
      "cell_type": "code",
      "source": [
        "sample"
      ],
      "metadata": {
        "colab": {
          "base_uri": "https://localhost:8080/"
        },
        "id": "Kupe5houFc1P",
        "outputId": "38f27504-7022-4414-e3ec-dea23867ace2"
      },
      "execution_count": null,
      "outputs": [
        {
          "output_type": "execute_result",
          "data": {
            "text/plain": [
              "array([ 5, 10, 15, 20])"
            ]
          },
          "metadata": {},
          "execution_count": 16
        }
      ]
    },
    {
      "cell_type": "code",
      "source": [
        "s_mean = sum(sample)/len(sample)"
      ],
      "metadata": {
        "id": "rQtlyJIH-u21"
      },
      "execution_count": null,
      "outputs": []
    },
    {
      "cell_type": "code",
      "source": [
        "s_mean"
      ],
      "metadata": {
        "colab": {
          "base_uri": "https://localhost:8080/"
        },
        "outputId": "7e421053-36bb-4076-ae6f-0939e2996270",
        "id": "gURIvbef-u22"
      },
      "execution_count": null,
      "outputs": [
        {
          "output_type": "execute_result",
          "data": {
            "text/plain": [
              "12.5"
            ]
          },
          "metadata": {},
          "execution_count": 18
        }
      ]
    },
    {
      "cell_type": "code",
      "source": [
        "sq_s_deviation = [(i-s_mean)**2 for i in sample]"
      ],
      "metadata": {
        "id": "-0g32weB-u22"
      },
      "execution_count": null,
      "outputs": []
    },
    {
      "cell_type": "code",
      "source": [
        "s_variance = sum(sq_s_deviation)/(len(sample) - 1)"
      ],
      "metadata": {
        "id": "xykNy63r-u22"
      },
      "execution_count": null,
      "outputs": []
    },
    {
      "cell_type": "code",
      "source": [
        "print('Sample Variance : {}'.format(round(s_variance,2)))"
      ],
      "metadata": {
        "colab": {
          "base_uri": "https://localhost:8080/"
        },
        "outputId": "2839bf95-e937-43a3-b059-86f1f6162b4e",
        "id": "EgxWYouP-u22"
      },
      "execution_count": null,
      "outputs": [
        {
          "output_type": "stream",
          "name": "stdout",
          "text": [
            "Sample Variance : 41.67\n"
          ]
        }
      ]
    },
    {
      "cell_type": "markdown",
      "source": [
        "\n",
        "\n",
        "---\n",
        "\n",
        "\n",
        "# 16.2 Measures of Dispersion - Standard Deviation"
      ],
      "metadata": {
        "id": "KEq1ITsILmYz"
      }
    },
    {
      "cell_type": "code",
      "source": [
        "import math"
      ],
      "metadata": {
        "id": "u53M-vE4Luup"
      },
      "execution_count": null,
      "outputs": []
    },
    {
      "cell_type": "code",
      "source": [
        "pop_variance"
      ],
      "metadata": {
        "colab": {
          "base_uri": "https://localhost:8080/"
        },
        "id": "n_AaWZIbNjfS",
        "outputId": "adaf2704-6e37-4bb4-dfb8-e8c0b821acda"
      },
      "execution_count": null,
      "outputs": [
        {
          "output_type": "execute_result",
          "data": {
            "text/plain": [
              "166.66666666666666"
            ]
          },
          "metadata": {},
          "execution_count": 23
        }
      ]
    },
    {
      "cell_type": "code",
      "source": [
        "std_dev = math.sqrt(pop_variance)"
      ],
      "metadata": {
        "id": "U2ZWmOHsLyoy"
      },
      "execution_count": null,
      "outputs": []
    },
    {
      "cell_type": "code",
      "source": [
        "print('Standard Deviation : {}'.format(round(std_dev,2)))"
      ],
      "metadata": {
        "colab": {
          "base_uri": "https://localhost:8080/"
        },
        "id": "ZrJ1ocIWL3B5",
        "outputId": "8b3f2710-a26b-41a3-d256-038eee38809d"
      },
      "execution_count": null,
      "outputs": [
        {
          "output_type": "stream",
          "name": "stdout",
          "text": [
            "Standard Deviation : 12.91\n"
          ]
        }
      ]
    },
    {
      "cell_type": "code",
      "source": [
        "pop_mean"
      ],
      "metadata": {
        "colab": {
          "base_uri": "https://localhost:8080/"
        },
        "id": "YgauTUynMAVp",
        "outputId": "127a74f6-1d88-4bac-d95e-472ced2d1b2e"
      },
      "execution_count": null,
      "outputs": [
        {
          "output_type": "execute_result",
          "data": {
            "text/plain": [
              "25.0"
            ]
          },
          "metadata": {},
          "execution_count": 26
        }
      ]
    }
  ]
}