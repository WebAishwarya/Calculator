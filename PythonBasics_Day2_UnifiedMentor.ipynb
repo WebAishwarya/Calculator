{
  "nbformat": 4,
  "nbformat_minor": 0,
  "metadata": {
    "colab": {
      "provenance": [],
      "authorship_tag": "ABX9TyNIo/zxAv6jSKA81Ix4l0YP",
      "include_colab_link": true
    },
    "kernelspec": {
      "name": "python3",
      "display_name": "Python 3"
    },
    "language_info": {
      "name": "python"
    }
  },
  "cells": [
    {
      "cell_type": "markdown",
      "metadata": {
        "id": "view-in-github",
        "colab_type": "text"
      },
      "source": [
        "<a href=\"https://colab.research.google.com/github/WebAishwarya/Data-Analyst_Unified-Mentor/blob/main/PythonBasics_Day2_UnifiedMentor.ipynb\" target=\"_parent\"><img src=\"https://colab.research.google.com/assets/colab-badge.svg\" alt=\"Open In Colab\"/></a>"
      ]
    },
    {
      "cell_type": "markdown",
      "source": [
        "# DAY 2\n",
        "\n",
        "---\n",
        "\n"
      ],
      "metadata": {
        "id": "oNrWuz0cf5ir"
      }
    },
    {
      "cell_type": "markdown",
      "source": [
        "\n",
        "# 2.1 List and it's Methods\n",
        "\n",
        "Lists are used to store multiple items in a single variable.\n",
        "\n",
        "*   Lists are used to store multiple items in a single variable.\n",
        "*   It is a collection which is ordered, changeable and allows duplicate members.\n",
        "\n",
        "**List Methods**\n",
        "\n",
        "\n",
        "append(), sort(), reverse(), remove(), pop(), insert(), index(), extend(), count(), copy(), clear()"
      ],
      "metadata": {
        "id": "OBf060_3b5mk"
      }
    },
    {
      "cell_type": "code",
      "source": [
        " fruits = ['apple', 'cherry', 'banana']"
      ],
      "metadata": {
        "id": "9ks2pSF96rTZ"
      },
      "execution_count": null,
      "outputs": []
    },
    {
      "cell_type": "code",
      "source": [
        " fruits.append(\"orange\")     # append adds element at last position\n",
        " fruits"
      ],
      "metadata": {
        "colab": {
          "base_uri": "https://localhost:8080/"
        },
        "id": "QrBa2jTQb_St",
        "outputId": "c84e3c4e-38ef-4f80-f083-893e5426e3af"
      },
      "execution_count": null,
      "outputs": [
        {
          "output_type": "execute_result",
          "data": {
            "text/plain": [
              "['apple', 'cherry', 'banana', 'orange']"
            ]
          },
          "metadata": {},
          "execution_count": 6
        }
      ]
    },
    {
      "cell_type": "code",
      "source": [
        "fruits.sort()\n",
        "fruits"
      ],
      "metadata": {
        "colab": {
          "base_uri": "https://localhost:8080/"
        },
        "id": "MFb4n4bec0Vs",
        "outputId": "fe37ef48-f33c-47cf-8ef2-d4c15875f848"
      },
      "execution_count": null,
      "outputs": [
        {
          "output_type": "execute_result",
          "data": {
            "text/plain": [
              "['apple', 'banana', 'cherry', 'orange']"
            ]
          },
          "metadata": {},
          "execution_count": 7
        }
      ]
    },
    {
      "cell_type": "code",
      "source": [
        "fruits.reverse()\n",
        "fruits"
      ],
      "metadata": {
        "colab": {
          "base_uri": "https://localhost:8080/"
        },
        "id": "mClPdaHEc5oc",
        "outputId": "626db5b5-b82a-4a7d-e2da-fa77cff2e0de"
      },
      "execution_count": null,
      "outputs": [
        {
          "output_type": "execute_result",
          "data": {
            "text/plain": [
              "['orange', 'cherry', 'banana', 'apple']"
            ]
          },
          "metadata": {},
          "execution_count": 8
        }
      ]
    },
    {
      "cell_type": "code",
      "source": [
        "fruits.remove(\"banana\")\n",
        "fruits"
      ],
      "metadata": {
        "colab": {
          "base_uri": "https://localhost:8080/"
        },
        "id": "4yeGnma3dAj0",
        "outputId": "7b29d12d-03dc-49b8-a9b0-c19b2d6596a0"
      },
      "execution_count": null,
      "outputs": [
        {
          "output_type": "execute_result",
          "data": {
            "text/plain": [
              "['orange', 'cherry', 'apple']"
            ]
          },
          "metadata": {},
          "execution_count": 9
        }
      ]
    },
    {
      "cell_type": "code",
      "source": [
        "fruits.pop(1)    # Removing element\n",
        "fruits"
      ],
      "metadata": {
        "colab": {
          "base_uri": "https://localhost:8080/"
        },
        "id": "Qey_WndbdCSc",
        "outputId": "750fdbc5-8b52-4e01-aa9c-a645f75d69f8"
      },
      "execution_count": null,
      "outputs": [
        {
          "output_type": "execute_result",
          "data": {
            "text/plain": [
              "['orange', 'apple']"
            ]
          },
          "metadata": {},
          "execution_count": 12
        }
      ]
    },
    {
      "cell_type": "code",
      "source": [
        "fruits.insert(1, \"watermelon\")    # insert element at desired position\n",
        "fruits"
      ],
      "metadata": {
        "colab": {
          "base_uri": "https://localhost:8080/"
        },
        "id": "51KvvoYWdHss",
        "outputId": "f48e44ec-f1fa-4539-dcc9-981d8a110734"
      },
      "execution_count": null,
      "outputs": [
        {
          "output_type": "execute_result",
          "data": {
            "text/plain": [
              "['orange', 'watermelon', 'apple']"
            ]
          },
          "metadata": {},
          "execution_count": 16
        }
      ]
    },
    {
      "cell_type": "code",
      "source": [
        "fruits.index(\"watermelon\")"
      ],
      "metadata": {
        "colab": {
          "base_uri": "https://localhost:8080/"
        },
        "id": "Dkdym_GKdJYt",
        "outputId": "86893320-7976-4ab4-d23d-fb4c6d88d23b"
      },
      "execution_count": null,
      "outputs": [
        {
          "output_type": "execute_result",
          "data": {
            "text/plain": [
              "1"
            ]
          },
          "metadata": {},
          "execution_count": 19
        }
      ]
    },
    {
      "cell_type": "code",
      "source": [
        "others = ['pineapple', 'strawaberry', 'guava','cherry','pineapple']"
      ],
      "metadata": {
        "id": "w0Qe7pChe1cx"
      },
      "execution_count": null,
      "outputs": []
    },
    {
      "cell_type": "code",
      "source": [
        "fruits.extend(others)\n",
        "fruits"
      ],
      "metadata": {
        "colab": {
          "base_uri": "https://localhost:8080/"
        },
        "id": "j_Wv1aMIe4Dg",
        "outputId": "ddb6e288-7c8d-474a-9d14-6e37acd09a66"
      },
      "execution_count": null,
      "outputs": [
        {
          "output_type": "execute_result",
          "data": {
            "text/plain": [
              "['orange',\n",
              " 'watermelon',\n",
              " 'apple',\n",
              " 'pineapple',\n",
              " 'strawaberry',\n",
              " 'guava',\n",
              " 'cherry',\n",
              " 'pineapple']"
            ]
          },
          "metadata": {},
          "execution_count": 21
        }
      ]
    },
    {
      "cell_type": "code",
      "source": [
        "fruits.count(\"cherry\")"
      ],
      "metadata": {
        "colab": {
          "base_uri": "https://localhost:8080/"
        },
        "id": "1u_26NvyfBIg",
        "outputId": "2e0be7e7-bbc3-4a88-de26-c3fc7313515d"
      },
      "execution_count": null,
      "outputs": [
        {
          "output_type": "execute_result",
          "data": {
            "text/plain": [
              "1"
            ]
          },
          "metadata": {},
          "execution_count": 23
        }
      ]
    },
    {
      "cell_type": "code",
      "source": [
        "fruits.count(\"pineapple\")"
      ],
      "metadata": {
        "colab": {
          "base_uri": "https://localhost:8080/"
        },
        "id": "vxChAerqfbZB",
        "outputId": "cf230fde-fe51-4d20-8451-ba5f7661b003"
      },
      "execution_count": null,
      "outputs": [
        {
          "output_type": "execute_result",
          "data": {
            "text/plain": [
              "2"
            ]
          },
          "metadata": {},
          "execution_count": 24
        }
      ]
    },
    {
      "cell_type": "code",
      "source": [
        "fruits.copy()"
      ],
      "metadata": {
        "colab": {
          "base_uri": "https://localhost:8080/"
        },
        "id": "aMEnNLEBfOeR",
        "outputId": "625eb6af-6acf-4482-88e6-1e612fa65cec"
      },
      "execution_count": null,
      "outputs": [
        {
          "output_type": "execute_result",
          "data": {
            "text/plain": [
              "['orange',\n",
              " 'watermelon',\n",
              " 'apple',\n",
              " 'pineapple',\n",
              " 'strawaberry',\n",
              " 'guava',\n",
              " 'cherry',\n",
              " 'pineapple']"
            ]
          },
          "metadata": {},
          "execution_count": 25
        }
      ]
    },
    {
      "cell_type": "code",
      "source": [
        "fruits.clear()"
      ],
      "metadata": {
        "id": "TqbLD_mKfm6X"
      },
      "execution_count": null,
      "outputs": []
    },
    {
      "cell_type": "code",
      "source": [
        "fruits"
      ],
      "metadata": {
        "colab": {
          "base_uri": "https://localhost:8080/"
        },
        "id": "MGO-p5lkfw_f",
        "outputId": "a38d7c67-47d1-4f51-92cf-b274dcaeee23"
      },
      "execution_count": null,
      "outputs": [
        {
          "output_type": "execute_result",
          "data": {
            "text/plain": [
              "[]"
            ]
          },
          "metadata": {},
          "execution_count": 27
        }
      ]
    },
    {
      "cell_type": "markdown",
      "source": [
        "\n",
        "\n",
        "---\n",
        "\n"
      ],
      "metadata": {
        "id": "3-OwrekgsTYB"
      }
    },
    {
      "cell_type": "markdown",
      "source": [
        "# 2.2 String and it's Methods\n",
        "\n",
        "*   All string methods returns new values. They do not change the original string.\n",
        "\n",
        "**String Methods**\n",
        "\n",
        "\n",
        "*   isalpha(), isalnum(), index(), find(), count(), capitalize(), isdigit(), islower(), isnumeric()\n",
        "*   endswith(), upper(), title(), swapcase(), strip(), startswith(), split(), join(), lower(), replace()"
      ],
      "metadata": {
        "id": "A44eAwgUgzAs"
      }
    },
    {
      "cell_type": "markdown",
      "source": [
        "**capitalize()**"
      ],
      "metadata": {
        "id": "6NsBES-DsGZY"
      }
    },
    {
      "cell_type": "code",
      "source": [
        "txt = \"hello, and welcome to our course.\"\n",
        "a = txt.capitalize()\n",
        "print(a)"
      ],
      "metadata": {
        "colab": {
          "base_uri": "https://localhost:8080/"
        },
        "id": "yk7KrA_qhAVY",
        "outputId": "312ebe2f-c234-4755-ec61-a21997c3e1c2"
      },
      "execution_count": null,
      "outputs": [
        {
          "output_type": "stream",
          "name": "stdout",
          "text": [
            "Hello, and welcome to our course.\n"
          ]
        }
      ]
    },
    {
      "cell_type": "markdown",
      "source": [
        "**count()**"
      ],
      "metadata": {
        "id": "BSs2JBWqsNBw"
      }
    },
    {
      "cell_type": "code",
      "source": [
        "txt = \"I am from India and born in Maharashtra, India\"\n",
        "b = txt.count(\"India\")\n",
        "print(b)"
      ],
      "metadata": {
        "colab": {
          "base_uri": "https://localhost:8080/"
        },
        "id": "uYSN5PG4hq9-",
        "outputId": "3c6ffe82-c188-4cf9-fb2a-e70bd10f726b"
      },
      "execution_count": null,
      "outputs": [
        {
          "output_type": "stream",
          "name": "stdout",
          "text": [
            "2\n"
          ]
        }
      ]
    },
    {
      "cell_type": "markdown",
      "source": [
        "**find()**"
      ],
      "metadata": {
        "id": "PrVOKV0Osbz5"
      }
    },
    {
      "cell_type": "code",
      "source": [
        "txt = \"I love apples, apple are my favorite fruit\"\n",
        "c = txt.find(\"apple\")\n",
        "print(c)\n",
        "\n",
        "# If we don't find out specified string, it will return -1\n",
        "c_ = txt.find(\"banana\")\n",
        "print(c_)"
      ],
      "metadata": {
        "colab": {
          "base_uri": "https://localhost:8080/"
        },
        "id": "G3kWQY2-hrHO",
        "outputId": "eaf48f07-d53c-450b-b9c3-c79468bdf7b8"
      },
      "execution_count": null,
      "outputs": [
        {
          "output_type": "stream",
          "name": "stdout",
          "text": [
            "7\n",
            "-1\n"
          ]
        }
      ]
    },
    {
      "cell_type": "markdown",
      "source": [
        "**index()**\n"
      ],
      "metadata": {
        "id": "4367jP_9sfu5"
      }
    },
    {
      "cell_type": "code",
      "source": [
        "d = txt.index(\"apple\")\n",
        "print(d)\n",
        "# It will throw an error, if an element is not present or found"
      ],
      "metadata": {
        "colab": {
          "base_uri": "https://localhost:8080/"
        },
        "id": "BgUiFElkhrOe",
        "outputId": "2be83588-496f-46df-f884-f3bb32b9c219"
      },
      "execution_count": null,
      "outputs": [
        {
          "output_type": "stream",
          "name": "stdout",
          "text": [
            "7\n"
          ]
        }
      ]
    },
    {
      "cell_type": "markdown",
      "source": [
        "**split()**"
      ],
      "metadata": {
        "id": "p-sXxKclsmZq"
      }
    },
    {
      "cell_type": "code",
      "source": [
        "txt = \"hello, my name is Peter, I am 26 years old\"\n",
        "e = txt.split()   # By default it is space\n",
        "print(e)\n",
        "\n",
        "e = txt.split(',')\n",
        "print(e)"
      ],
      "metadata": {
        "colab": {
          "base_uri": "https://localhost:8080/"
        },
        "id": "Lolb3hBJhrUF",
        "outputId": "254cc20c-18a9-4e9e-b937-84cf30bdfc4a"
      },
      "execution_count": null,
      "outputs": [
        {
          "output_type": "stream",
          "name": "stdout",
          "text": [
            "['hello,', 'my', 'name', 'is', 'Peter,', 'I', 'am', '26', 'years', 'old']\n",
            "['hello', ' my name is Peter', ' I am 26 years old']\n"
          ]
        }
      ]
    },
    {
      "cell_type": "markdown",
      "source": [
        "**isalnum()**"
      ],
      "metadata": {
        "id": "ZMQkaWJqsrfp"
      }
    },
    {
      "cell_type": "code",
      "source": [
        "txt = \"Company12\"\n",
        "name = txt.isalnum()   # is alphanumeric - only throws result in true and false\n",
        "print(name)"
      ],
      "metadata": {
        "colab": {
          "base_uri": "https://localhost:8080/"
        },
        "id": "-N0Kk9zFhrbO",
        "outputId": "a559733b-2e4a-41d7-f60e-5400215a8ffe"
      },
      "execution_count": null,
      "outputs": [
        {
          "output_type": "stream",
          "name": "stdout",
          "text": [
            "True\n"
          ]
        }
      ]
    },
    {
      "cell_type": "markdown",
      "source": [
        "**isalpha()**"
      ],
      "metadata": {
        "id": "Veu8VBeLsuN7"
      }
    },
    {
      "cell_type": "code",
      "source": [
        "txt = \"Company\"\n",
        "alpha = txt.isalpha()   # is alphabetic - only contains alphabets - only throws result in true and false\n",
        "print(alpha)"
      ],
      "metadata": {
        "colab": {
          "base_uri": "https://localhost:8080/"
        },
        "id": "SzreCm5ihrgW",
        "outputId": "16a68ff4-e6e9-48ff-ed0a-07d3f24f0d19"
      },
      "execution_count": null,
      "outputs": [
        {
          "output_type": "stream",
          "name": "stdout",
          "text": [
            "True\n"
          ]
        }
      ]
    },
    {
      "cell_type": "markdown",
      "source": [
        "**isdigit()**"
      ],
      "metadata": {
        "id": "KPzR6IeMswgZ"
      }
    },
    {
      "cell_type": "code",
      "source": [
        "txt = '50800'\n",
        "num = txt.isdigit()\n",
        "print(num)"
      ],
      "metadata": {
        "colab": {
          "base_uri": "https://localhost:8080/"
        },
        "id": "UgbK44UNkdcz",
        "outputId": "0c15aa94-bc65-4194-f3e9-fca75ac474a9"
      },
      "execution_count": null,
      "outputs": [
        {
          "output_type": "stream",
          "name": "stdout",
          "text": [
            "True\n"
          ]
        }
      ]
    },
    {
      "cell_type": "markdown",
      "source": [
        "**join()**"
      ],
      "metadata": {
        "id": "5RkhpgAds2Tp"
      }
    },
    {
      "cell_type": "code",
      "source": [
        "names = [\"Data\", \"Analyst\", \"Intern\"]\n",
        "joined = \"_\".join(names)\n",
        "print(joined)"
      ],
      "metadata": {
        "colab": {
          "base_uri": "https://localhost:8080/"
        },
        "id": "7RyesqEtmTKg",
        "outputId": "6e26ad84-9b67-4fd4-ff88-308d8eb56b9f"
      },
      "execution_count": null,
      "outputs": [
        {
          "output_type": "stream",
          "name": "stdout",
          "text": [
            "Data_Analyst_Intern\n"
          ]
        }
      ]
    },
    {
      "cell_type": "markdown",
      "source": [
        "**replace()**"
      ],
      "metadata": {
        "id": "ujFnutu8s9Gy"
      }
    },
    {
      "cell_type": "code",
      "source": [
        "txt = \"I love sports\"\n",
        "result = txt.replace(\"sports\", \"cricket\")\n",
        "print(txt)\n",
        "print(result)"
      ],
      "metadata": {
        "colab": {
          "base_uri": "https://localhost:8080/"
        },
        "id": "0wgbKDX6mTUO",
        "outputId": "a1c5b768-cdcf-42eb-e9fd-5b6ca4432bd5"
      },
      "execution_count": null,
      "outputs": [
        {
          "output_type": "stream",
          "name": "stdout",
          "text": [
            "I love sports\n",
            "I love cricket\n"
          ]
        }
      ]
    },
    {
      "cell_type": "markdown",
      "source": [
        "**startswith() & endswith()**"
      ],
      "metadata": {
        "id": "NHmFvPdytErq"
      }
    },
    {
      "cell_type": "code",
      "source": [
        "txt = \"Hello, welcome to my world.\"\n",
        "start = txt.startswith(\"Hello\")\n",
        "end = txt.endswith(\".\")\n",
        "\n",
        "start, end"
      ],
      "metadata": {
        "colab": {
          "base_uri": "https://localhost:8080/"
        },
        "id": "DGTrDEDmnIvA",
        "outputId": "0d36a42f-a1f2-4e9f-cc3e-0031118e730c"
      },
      "execution_count": null,
      "outputs": [
        {
          "output_type": "execute_result",
          "data": {
            "text/plain": [
              "(True, True)"
            ]
          },
          "metadata": {},
          "execution_count": 55
        }
      ]
    },
    {
      "cell_type": "markdown",
      "source": [
        "\n",
        "\n",
        "---\n",
        "\n"
      ],
      "metadata": {
        "id": "j-3OiWZMtLA_"
      }
    },
    {
      "cell_type": "markdown",
      "source": [
        "# 2.3 Python Conditional Statements\n",
        "\n",
        "\n",
        "*   If , elif, else statements"
      ],
      "metadata": {
        "id": "HUmizm33oUwa"
      }
    },
    {
      "cell_type": "markdown",
      "source": [
        "**If Statement**"
      ],
      "metadata": {
        "id": "FPspISMNqlkb"
      }
    },
    {
      "cell_type": "code",
      "source": [
        "a , b = 33 , 200\n",
        "\n",
        "print(b>a)\n",
        "\n",
        "if b > a:\n",
        "  print(\"b is greater than a\")"
      ],
      "metadata": {
        "colab": {
          "base_uri": "https://localhost:8080/"
        },
        "id": "57zaFoLJoVyb",
        "outputId": "44f61c14-e4d0-4705-a33f-f17cb087c7af"
      },
      "execution_count": null,
      "outputs": [
        {
          "output_type": "stream",
          "name": "stdout",
          "text": [
            "True\n",
            "b is greater than a\n"
          ]
        }
      ]
    },
    {
      "cell_type": "markdown",
      "source": [
        "**If elif Statement**"
      ],
      "metadata": {
        "id": "6crRf8_qqqkG"
      }
    },
    {
      "cell_type": "code",
      "source": [
        "aman , vinod = 80 , 80\n",
        "\n",
        "if vinod > aman:\n",
        "  print(\"vinod scores greater than aman\")\n",
        "elif aman == vinod:\n",
        "  print(\"Both scores equally\")"
      ],
      "metadata": {
        "colab": {
          "base_uri": "https://localhost:8080/"
        },
        "id": "5qWRyy0pocxa",
        "outputId": "c4b6cae2-ca4f-4fa9-f4ed-01cde0290d0b"
      },
      "execution_count": null,
      "outputs": [
        {
          "output_type": "stream",
          "name": "stdout",
          "text": [
            "Both scores equally\n"
          ]
        }
      ]
    },
    {
      "cell_type": "markdown",
      "source": [
        "**If elif else Statement**"
      ],
      "metadata": {
        "id": "2CGzsCBqqxis"
      }
    },
    {
      "cell_type": "code",
      "source": [
        "aman , vinod = 80 , 50\n",
        "\n",
        "if vinod > aman:\n",
        "  print(\"vinod scores greater than aman\")\n",
        "elif aman == vinod:\n",
        "  print(\"Both scores equally\")\n",
        "else:\n",
        "  print('aman scores greater than vinod')"
      ],
      "metadata": {
        "colab": {
          "base_uri": "https://localhost:8080/"
        },
        "id": "bR5ieA3LodAi",
        "outputId": "6138de7e-5ea4-465b-feab-618366f04a59"
      },
      "execution_count": null,
      "outputs": [
        {
          "output_type": "stream",
          "name": "stdout",
          "text": [
            "aman scores greater than vinod\n"
          ]
        }
      ]
    },
    {
      "cell_type": "markdown",
      "source": [
        "**Nested If Statement**"
      ],
      "metadata": {
        "id": "97d6pRKXrDEO"
      }
    },
    {
      "cell_type": "code",
      "source": [
        "marks = 72\n",
        "\n",
        "if marks > 35:\n",
        "  print(\"He is Pass\")\n",
        "  if marks > 60:\n",
        "    print(\"He is in Distinction\")\n",
        "  else:\n",
        "    print(\"He is in Mid Range\")\n",
        "else:\n",
        "  print('Sadly, He is Fail')"
      ],
      "metadata": {
        "colab": {
          "base_uri": "https://localhost:8080/"
        },
        "id": "6v3_JVM3q77D",
        "outputId": "8a3aafc0-93e4-4d22-cffd-7fcfc72783e3"
      },
      "execution_count": null,
      "outputs": [
        {
          "output_type": "stream",
          "name": "stdout",
          "text": [
            "He is Pass\n",
            "He is in Distinction\n"
          ]
        }
      ]
    },
    {
      "cell_type": "markdown",
      "source": [
        "\n",
        "\n",
        "---\n",
        "\n"
      ],
      "metadata": {
        "id": "HdKiDAOmtRrP"
      }
    }
  ]
}