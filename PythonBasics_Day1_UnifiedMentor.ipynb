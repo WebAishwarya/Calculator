{
  "nbformat": 4,
  "nbformat_minor": 0,
  "metadata": {
    "colab": {
      "provenance": [],
      "authorship_tag": "ABX9TyNWrQhyqAH5PM+V/RxW1Tiw",
      "include_colab_link": true
    },
    "kernelspec": {
      "name": "python3",
      "display_name": "Python 3"
    },
    "language_info": {
      "name": "python"
    }
  },
  "cells": [
    {
      "cell_type": "markdown",
      "metadata": {
        "id": "view-in-github",
        "colab_type": "text"
      },
      "source": [
        "<a href=\"https://colab.research.google.com/github/WebAishwarya/Data-Analyst_Unified-Mentor/blob/main/PythonBasics_Day1_UnifiedMentor.ipynb\" target=\"_parent\"><img src=\"https://colab.research.google.com/assets/colab-badge.svg\" alt=\"Open In Colab\"/></a>"
      ]
    },
    {
      "cell_type": "markdown",
      "source": [
        "# DAY 1\n",
        "\n",
        "---\n",
        "\n"
      ],
      "metadata": {
        "id": "pbQg18U6iHdv"
      }
    },
    {
      "cell_type": "markdown",
      "source": [
        "# 1.1 Python Basic Terms"
      ],
      "metadata": {
        "id": "lLMd1jsHmoIH"
      }
    },
    {
      "cell_type": "markdown",
      "source": [
        "# Syntax And Comments"
      ],
      "metadata": {
        "id": "2YkBhumyitD-"
      }
    },
    {
      "cell_type": "markdown",
      "source": [
        "**Valid Syntax**"
      ],
      "metadata": {
        "id": "INmSDWOzkKpS"
      }
    },
    {
      "cell_type": "code",
      "execution_count": null,
      "metadata": {
        "colab": {
          "base_uri": "https://localhost:8080/"
        },
        "id": "pP2ZJn_shtcd",
        "outputId": "095b9090-2b86-4b68-a1f0-3ac4ee02a734"
      },
      "outputs": [
        {
          "output_type": "stream",
          "name": "stdout",
          "text": [
            "Name : Aishwarya Prabhakar Jadhav\n"
          ]
        }
      ],
      "source": [
        "print('Name : Aishwarya Prabhakar Jadhav')"
      ]
    },
    {
      "cell_type": "code",
      "source": [
        "name ='Aishwarya'    # Variable Assignment\n",
        "print(name)          # Printing Variable"
      ],
      "metadata": {
        "colab": {
          "base_uri": "https://localhost:8080/"
        },
        "id": "bZUxLNFljjwh",
        "outputId": "15b50c22-521d-4ae8-a90c-5cdb5cce952b"
      },
      "execution_count": null,
      "outputs": [
        {
          "output_type": "stream",
          "name": "stdout",
          "text": [
            "Aishwarya\n"
          ]
        }
      ]
    },
    {
      "cell_type": "markdown",
      "source": [
        "**Invalid Syntax**"
      ],
      "metadata": {
        "id": "AvM98XzkkY0K"
      }
    },
    {
      "cell_type": "code",
      "source": [
        "sai = 'Sai'\n",
        "print(Name)"
      ],
      "metadata": {
        "colab": {
          "base_uri": "https://localhost:8080/",
          "height": 158
        },
        "id": "vS6nuDAGj2Yo",
        "outputId": "42dabe0c-21fd-4950-9525-4221821a2133"
      },
      "execution_count": null,
      "outputs": [
        {
          "output_type": "error",
          "ename": "NameError",
          "evalue": "name 'Name' is not defined",
          "traceback": [
            "\u001b[0;31m---------------------------------------------------------------------------\u001b[0m",
            "\u001b[0;31mNameError\u001b[0m                                 Traceback (most recent call last)",
            "\u001b[0;32m<ipython-input-9-f3c3ca859eb0>\u001b[0m in \u001b[0;36m<cell line: 2>\u001b[0;34m()\u001b[0m\n\u001b[1;32m      1\u001b[0m \u001b[0msai\u001b[0m \u001b[0;34m=\u001b[0m \u001b[0;34m'Sai'\u001b[0m\u001b[0;34m\u001b[0m\u001b[0;34m\u001b[0m\u001b[0m\n\u001b[0;32m----> 2\u001b[0;31m \u001b[0mprint\u001b[0m\u001b[0;34m(\u001b[0m\u001b[0mName\u001b[0m\u001b[0;34m)\u001b[0m\u001b[0;34m\u001b[0m\u001b[0;34m\u001b[0m\u001b[0m\n\u001b[0m",
            "\u001b[0;31mNameError\u001b[0m: name 'Name' is not defined"
          ]
        }
      ]
    },
    {
      "cell_type": "markdown",
      "source": [
        "**Comment**"
      ],
      "metadata": {
        "id": "lX2hJmivlBxr"
      }
    },
    {
      "cell_type": "code",
      "source": [
        "# Comment is represented by 'Hash' keyword\n",
        "# This is the comment\n",
        "# Comment is not executable ; It is just for information purpose."
      ],
      "metadata": {
        "id": "B_jBMQwKk2Xa"
      },
      "execution_count": null,
      "outputs": []
    },
    {
      "cell_type": "code",
      "source": [
        "name ='Aishwarya'   # This is my name\n",
        "print(name)"
      ],
      "metadata": {
        "id": "lzwejoHxloKD"
      },
      "execution_count": null,
      "outputs": []
    },
    {
      "cell_type": "markdown",
      "source": [
        "# 1.2 Python Data Types, Type Casting & Variables"
      ],
      "metadata": {
        "id": "voORb2c0m_3I"
      }
    },
    {
      "cell_type": "markdown",
      "source": [
        "**Python Data Types**\n",
        "\n",
        "\n",
        "*   **Text Type:**\tstr\n",
        "*   **Numeric Types:**\tint, float\n",
        "*   **Sequence Types:**\tlist, tuple, range\n",
        "*   **Mapping Type:**\tdict\n",
        "*   **Set Types:**\tset\n",
        "*   **Boolean Type:**\tbool"
      ],
      "metadata": {
        "id": "W7HL1lGToMne"
      }
    },
    {
      "cell_type": "markdown",
      "source": [
        "**String Text Type**"
      ],
      "metadata": {
        "id": "wpBXIvaOukJp"
      }
    },
    {
      "cell_type": "code",
      "source": [
        "str('Aishwarya')"
      ],
      "metadata": {
        "colab": {
          "base_uri": "https://localhost:8080/",
          "height": 36
        },
        "id": "-gWpTkGknJKH",
        "outputId": "248e8ced-cc82-4b7d-93f5-93d022f5cef6"
      },
      "execution_count": null,
      "outputs": [
        {
          "output_type": "execute_result",
          "data": {
            "text/plain": [
              "'Aishwarya'"
            ],
            "application/vnd.google.colaboratory.intrinsic+json": {
              "type": "string"
            }
          },
          "metadata": {},
          "execution_count": 10
        }
      ]
    },
    {
      "cell_type": "markdown",
      "source": [
        "**Numeric Types**"
      ],
      "metadata": {
        "id": "7XrTTo1NuvQp"
      }
    },
    {
      "cell_type": "code",
      "source": [
        "name = 'Aishwarya'\n",
        "age = 20\n",
        "percent = 87.90"
      ],
      "metadata": {
        "id": "8hhCm-cHpxli"
      },
      "execution_count": null,
      "outputs": []
    },
    {
      "cell_type": "code",
      "source": [
        "type(name)"
      ],
      "metadata": {
        "colab": {
          "base_uri": "https://localhost:8080/"
        },
        "id": "eXYQKyWwqYtj",
        "outputId": "c415622a-22f8-4775-dc7f-c089938beb11"
      },
      "execution_count": null,
      "outputs": [
        {
          "output_type": "execute_result",
          "data": {
            "text/plain": [
              "str"
            ]
          },
          "metadata": {},
          "execution_count": 13
        }
      ]
    },
    {
      "cell_type": "code",
      "source": [
        "type(age)"
      ],
      "metadata": {
        "colab": {
          "base_uri": "https://localhost:8080/"
        },
        "id": "hx8Erwqqqg2K",
        "outputId": "b88eb7e3-6d06-41a3-c9a2-7f90809d44e4"
      },
      "execution_count": null,
      "outputs": [
        {
          "output_type": "execute_result",
          "data": {
            "text/plain": [
              "int"
            ]
          },
          "metadata": {},
          "execution_count": 14
        }
      ]
    },
    {
      "cell_type": "code",
      "source": [
        "type(percent)"
      ],
      "metadata": {
        "colab": {
          "base_uri": "https://localhost:8080/"
        },
        "id": "nt_KGNsjqjRD",
        "outputId": "e07c7838-e799-4f6a-c8ed-94e67ba2594d"
      },
      "execution_count": null,
      "outputs": [
        {
          "output_type": "execute_result",
          "data": {
            "text/plain": [
              "float"
            ]
          },
          "metadata": {},
          "execution_count": 15
        }
      ]
    },
    {
      "cell_type": "markdown",
      "source": [
        "**Sequence Types**"
      ],
      "metadata": {
        "id": "II9Ja1qNu5lp"
      }
    },
    {
      "cell_type": "code",
      "source": [
        "student1 = [ 'Aishwarya', 20, 87.90 ]     # List - can be modify\n",
        "student2 = ( 'Aishwarya', 20, 87.90 )     # Tuple - cannot be modify\n",
        "student = range(10)"
      ],
      "metadata": {
        "id": "CTfX5MS4q240"
      },
      "execution_count": null,
      "outputs": []
    },
    {
      "cell_type": "code",
      "source": [
        "type(student1)"
      ],
      "metadata": {
        "colab": {
          "base_uri": "https://localhost:8080/"
        },
        "id": "mmuDp4c5rhU0",
        "outputId": "dfccc463-5c97-4a15-d743-45229a79d4be"
      },
      "execution_count": null,
      "outputs": [
        {
          "output_type": "execute_result",
          "data": {
            "text/plain": [
              "list"
            ]
          },
          "metadata": {},
          "execution_count": 20
        }
      ]
    },
    {
      "cell_type": "code",
      "source": [
        "type(student2)"
      ],
      "metadata": {
        "colab": {
          "base_uri": "https://localhost:8080/"
        },
        "id": "uOzj-p7isNGA",
        "outputId": "f9ae98d7-03d5-4f49-a634-4d189d15cd01"
      },
      "execution_count": null,
      "outputs": [
        {
          "output_type": "execute_result",
          "data": {
            "text/plain": [
              "tuple"
            ]
          },
          "metadata": {},
          "execution_count": 21
        }
      ]
    },
    {
      "cell_type": "code",
      "source": [
        "type(student)"
      ],
      "metadata": {
        "colab": {
          "base_uri": "https://localhost:8080/"
        },
        "id": "mroNYQ9ksjr-",
        "outputId": "48c7d41f-3dec-476b-ad91-e82ce8aed6ce"
      },
      "execution_count": null,
      "outputs": [
        {
          "output_type": "execute_result",
          "data": {
            "text/plain": [
              "range"
            ]
          },
          "metadata": {},
          "execution_count": 23
        }
      ]
    },
    {
      "cell_type": "code",
      "source": [
        "print(student)"
      ],
      "metadata": {
        "colab": {
          "base_uri": "https://localhost:8080/"
        },
        "id": "oHYoTYAos0WG",
        "outputId": "20a9ffca-5c93-443e-d2aa-1d02922966b4"
      },
      "execution_count": null,
      "outputs": [
        {
          "output_type": "stream",
          "name": "stdout",
          "text": [
            "range(0, 10)\n"
          ]
        }
      ]
    },
    {
      "cell_type": "markdown",
      "source": [
        "**Mapping Type**"
      ],
      "metadata": {
        "id": "utW1Kd-QvE46"
      }
    },
    {
      "cell_type": "code",
      "source": [
        "student = { 'name' : 'Aishwarya', 'age' : 20, 'percent' : 87.90 }\n",
        "# ':' is use to connect key and value\n",
        "# ',' is use to separate the values"
      ],
      "metadata": {
        "id": "j0oZPYOgs2_P"
      },
      "execution_count": null,
      "outputs": []
    },
    {
      "cell_type": "code",
      "source": [
        "student"
      ],
      "metadata": {
        "colab": {
          "base_uri": "https://localhost:8080/"
        },
        "id": "WwlOEGbGuFHC",
        "outputId": "a78b2fa4-20ea-4540-efc7-7c207393daca"
      },
      "execution_count": null,
      "outputs": [
        {
          "output_type": "execute_result",
          "data": {
            "text/plain": [
              "{'name': 'Aishwarya', 'age': 20, 'percent': 87.9}"
            ]
          },
          "metadata": {},
          "execution_count": 26
        }
      ]
    },
    {
      "cell_type": "code",
      "source": [
        "student.keys()"
      ],
      "metadata": {
        "colab": {
          "base_uri": "https://localhost:8080/"
        },
        "id": "pyAF8t1juTJg",
        "outputId": "503f2072-c9f1-498e-d8f5-33f9b9957fc8"
      },
      "execution_count": null,
      "outputs": [
        {
          "output_type": "execute_result",
          "data": {
            "text/plain": [
              "dict_keys(['name', 'age', 'percent'])"
            ]
          },
          "metadata": {},
          "execution_count": 27
        }
      ]
    },
    {
      "cell_type": "code",
      "source": [
        "student.values()"
      ],
      "metadata": {
        "colab": {
          "base_uri": "https://localhost:8080/"
        },
        "id": "Se3rX5S0ubu6",
        "outputId": "119ededf-5320-46b4-8473-1c2c533381d5"
      },
      "execution_count": null,
      "outputs": [
        {
          "output_type": "execute_result",
          "data": {
            "text/plain": [
              "dict_values(['Aishwarya', 20, 87.9])"
            ]
          },
          "metadata": {},
          "execution_count": 28
        }
      ]
    },
    {
      "cell_type": "markdown",
      "source": [
        "**Set Type**"
      ],
      "metadata": {
        "id": "yzbhcPz9v1et"
      }
    },
    {
      "cell_type": "code",
      "source": [
        "student = { 'Aishwarya', 20, 87.90 }\n",
        "# set prints values randomly"
      ],
      "metadata": {
        "id": "4o0HWtq1vOkz"
      },
      "execution_count": null,
      "outputs": []
    },
    {
      "cell_type": "code",
      "source": [
        "student"
      ],
      "metadata": {
        "colab": {
          "base_uri": "https://localhost:8080/"
        },
        "id": "3pFDGWRwwJ1k",
        "outputId": "3fe7ee0b-9f18-4563-aeee-98469369d16f"
      },
      "execution_count": null,
      "outputs": [
        {
          "output_type": "execute_result",
          "data": {
            "text/plain": [
              "{20, 87.9, 'Aishwarya'}"
            ]
          },
          "metadata": {},
          "execution_count": 30
        }
      ]
    },
    {
      "cell_type": "code",
      "source": [
        "type(student)"
      ],
      "metadata": {
        "colab": {
          "base_uri": "https://localhost:8080/"
        },
        "id": "VlZLLd6Owdj8",
        "outputId": "cf777b9b-5274-46c7-cdba-f4c53e3181a2"
      },
      "execution_count": null,
      "outputs": [
        {
          "output_type": "execute_result",
          "data": {
            "text/plain": [
              "set"
            ]
          },
          "metadata": {},
          "execution_count": 31
        }
      ]
    },
    {
      "cell_type": "markdown",
      "source": [
        "**Boolean Type**"
      ],
      "metadata": {
        "id": "AIwJF6WNxIkm"
      }
    },
    {
      "cell_type": "code",
      "source": [
        "bool(1)"
      ],
      "metadata": {
        "colab": {
          "base_uri": "https://localhost:8080/"
        },
        "id": "knOvZGmKxYg-",
        "outputId": "93f36eb9-4b61-44ae-a85e-fb3854f1bb47"
      },
      "execution_count": null,
      "outputs": [
        {
          "output_type": "execute_result",
          "data": {
            "text/plain": [
              "True"
            ]
          },
          "metadata": {},
          "execution_count": 33
        }
      ]
    },
    {
      "cell_type": "code",
      "source": [
        "bool(0)"
      ],
      "metadata": {
        "colab": {
          "base_uri": "https://localhost:8080/"
        },
        "id": "r4aFZfLJxfB-",
        "outputId": "6d1d10da-fc0a-4d1a-f0ba-927c00042621"
      },
      "execution_count": null,
      "outputs": [
        {
          "output_type": "execute_result",
          "data": {
            "text/plain": [
              "False"
            ]
          },
          "metadata": {},
          "execution_count": 34
        }
      ]
    },
    {
      "cell_type": "code",
      "source": [
        "bool(-1)"
      ],
      "metadata": {
        "colab": {
          "base_uri": "https://localhost:8080/"
        },
        "id": "sKEeNmFpxl-9",
        "outputId": "dc0986a3-05a7-4972-8f49-42341661611d"
      },
      "execution_count": null,
      "outputs": [
        {
          "output_type": "execute_result",
          "data": {
            "text/plain": [
              "True"
            ]
          },
          "metadata": {},
          "execution_count": 35
        }
      ]
    },
    {
      "cell_type": "markdown",
      "source": [
        "# 1.3 Python Operators"
      ],
      "metadata": {
        "id": "S3BWJbUex2F3"
      }
    },
    {
      "cell_type": "markdown",
      "source": [
        "**Python Operators**\n",
        "\n",
        "*   Arithmetic operators\n",
        "*   Assignment operators\n",
        "*   Comparison operators\n",
        "*   Logical operators\n",
        "*   Membership operators"
      ],
      "metadata": {
        "id": "uVVYDG13yF0X"
      }
    },
    {
      "cell_type": "markdown",
      "source": [
        "**Arithmetic Operators**"
      ],
      "metadata": {
        "id": "9oW0Deb-ygO9"
      }
    },
    {
      "cell_type": "code",
      "source": [
        "# (+,-,*,/,%,**)    Used with numeric values to perform common mathematical operations\n",
        "\n",
        "x = 5\n",
        "y = 8\n",
        "\n",
        "# print(x + y, x - y, x * y, x / y, x % y, x ** y)\n",
        "\n",
        "print(x * y)"
      ],
      "metadata": {
        "colab": {
          "base_uri": "https://localhost:8080/"
        },
        "id": "amHgUwOUyK5f",
        "outputId": "dfaab223-580a-4cec-f566-1e5f911e0cbc"
      },
      "execution_count": null,
      "outputs": [
        {
          "output_type": "stream",
          "name": "stdout",
          "text": [
            "40\n"
          ]
        }
      ]
    },
    {
      "cell_type": "markdown",
      "source": [
        "**Assignment Operators**"
      ],
      "metadata": {
        "id": "gSBpxQbFy4z_"
      }
    },
    {
      "cell_type": "code",
      "source": [
        "# (=,+=,-=,*=,/=,%=,**=)    Used to assign values to variables\n",
        "\n",
        "x, y = 5, 8\n",
        "\n",
        "# print (x = y, x += y, x -= y, x *= y, x %= y, x /= y, x **= y)\n",
        "\n",
        "x = x * y\n",
        "\n",
        "print(x)"
      ],
      "metadata": {
        "colab": {
          "base_uri": "https://localhost:8080/"
        },
        "id": "vvOitoXZy9N9",
        "outputId": "a9ecdb9d-aeac-4039-ba23-9011199276f7"
      },
      "execution_count": null,
      "outputs": [
        {
          "output_type": "stream",
          "name": "stdout",
          "text": [
            "40\n"
          ]
        }
      ]
    },
    {
      "cell_type": "markdown",
      "source": [
        "**Comparison Operators**"
      ],
      "metadata": {
        "id": "jdjvxIIQzJEY"
      }
    },
    {
      "cell_type": "code",
      "source": [
        "# (==,!=,<,>,<=,>=)     Used to compare two values\n",
        "\n",
        "# print(x == y, x != y, x < y, x > y, x <= y, x >= y)\n",
        "\n",
        "x, y = 5, 8\n",
        "\n",
        "x <= y"
      ],
      "metadata": {
        "colab": {
          "base_uri": "https://localhost:8080/"
        },
        "id": "JfGxQz9o0OVq",
        "outputId": "ea9c99d8-ee1f-421f-c4df-ed23c3c9432a"
      },
      "execution_count": null,
      "outputs": [
        {
          "output_type": "execute_result",
          "data": {
            "text/plain": [
              "True"
            ]
          },
          "metadata": {},
          "execution_count": 44
        }
      ]
    },
    {
      "cell_type": "markdown",
      "source": [
        "**Logical Operators**"
      ],
      "metadata": {
        "id": "K2r5OOHX0isj"
      }
    },
    {
      "cell_type": "code",
      "source": [
        "# and, or, not    Used to combine conditional statements\n",
        "\n",
        "# print(x and y, x or y, not y)\n",
        "\n",
        "case1 = (x < y) and (x == y)\n",
        "print(case1)\n",
        "\n",
        "case2 = (x < y) or (x == y)\n",
        "\n",
        "print(case2,not(case2))"
      ],
      "metadata": {
        "colab": {
          "base_uri": "https://localhost:8080/"
        },
        "id": "L9iypDfn0whY",
        "outputId": "cebecd10-4d55-4828-cc5d-65f318c200f6"
      },
      "execution_count": null,
      "outputs": [
        {
          "output_type": "stream",
          "name": "stdout",
          "text": [
            "False\n",
            "True False\n"
          ]
        }
      ]
    },
    {
      "cell_type": "markdown",
      "source": [
        "**Membership Operators**"
      ],
      "metadata": {
        "id": "_63GLAWp07qM"
      }
    },
    {
      "cell_type": "code",
      "source": [
        "# (==,!=,<,>,<=,>=)    Used to test if a sequence is presented in an object\n",
        "\n",
        "# print(x in y, x not in y)\n",
        "\n",
        "x = [1,2,3,4,5]\n",
        "y = 6\n",
        "\n",
        "y not in x"
      ],
      "metadata": {
        "colab": {
          "base_uri": "https://localhost:8080/"
        },
        "id": "ZMfRGeaZ09hT",
        "outputId": "f83341c2-d9ca-431f-8469-2c004517db61"
      },
      "execution_count": null,
      "outputs": [
        {
          "output_type": "execute_result",
          "data": {
            "text/plain": [
              "True"
            ]
          },
          "metadata": {},
          "execution_count": 43
        }
      ]
    }
  ]
}