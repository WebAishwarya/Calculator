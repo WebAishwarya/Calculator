{
  "cells": [
    {
      "cell_type": "markdown",
      "metadata": {
        "id": "view-in-github",
        "colab_type": "text"
      },
      "source": [
        "<a href=\"https://colab.research.google.com/github/WebAishwarya/Data-Analyst_Unified-Mentor/blob/main/Statistics_Module_Assignment.ipynb\" target=\"_parent\"><img src=\"https://colab.research.google.com/assets/colab-badge.svg\" alt=\"Open In Colab\"/></a>"
      ]
    },
    {
      "cell_type": "markdown",
      "source": [
        "<a id='1'></a><center> <h3 style=\"background-color:orange; color:white\" ><br>Telecommunication Industry Project<br></h3>"
      ],
      "metadata": {
        "id": "QvtD0SxEOPGe"
      }
    },
    {
      "cell_type": "markdown",
      "source": [
        "# Introduction\n",
        "This Jupyter notebook is part of your learning experience in the study of applied statistics.\n",
        "\n",
        "You will work with a data set that contains mobile phone prices and their specifications.\n",
        "\n",
        "**Dataset Columns Information**\n",
        "\n",
        "PID = a unique identifier for the phone model\n",
        "\n",
        "Blue = whether the phone has bluetooth support or not\n",
        "\n",
        "Wi_Fi = whether the phone has wifi support or not\n",
        "\n",
        "Tch_Scr = whether the phone has touch screen support or not\n",
        "\n",
        "Ext_Mem = whether the phone has external memory support or not\n",
        "\n",
        "Px_h = number of pixels in the vertical axis of the phone\n",
        "\n",
        "Px_w = number of pixels in the horizontal axis of the phone\n",
        "\n",
        "Scr_h = height of the screen of the phone in centimetres (cm)\n",
        "\n",
        "Scr_w = width of the screen of the phone in centimetres (cm)\n",
        "\n",
        "Int_Mem = internal memory of the phone measured in megabytes (MB)\n",
        "\n",
        "Bty_Pwr = maximum energy stored by the phone's battery measured in\n",
        "milli-Ampere-hours (mAh)\n",
        "\n",
        "PC = resolution of the primary camera measued in megapixels (MP)\n",
        "\n",
        "FC = resolution of the front camera measued in megapixels (MP)\n",
        "\n",
        "RAM = random access memory available in the phone measured in gigabytes (GB)\n",
        "\n",
        "Depth = depth of the mobile phone measured in centimetres (cm)\n",
        "\n",
        "Weight = weight of the mobile phone measured in grams (g)\n",
        "\n",
        "Price = selling price of the mobile phone in rupees\n"
      ],
      "metadata": {
        "id": "_pzTIrVbOcFF"
      }
    },
    {
      "cell_type": "markdown",
      "source": [
        "## Task 1 - Load and study the data"
      ],
      "metadata": {
        "id": "YCLhIkwFO4Tj"
      }
    },
    {
      "cell_type": "markdown",
      "source": [
        "Import the libraries that will be used in this notebook"
      ],
      "metadata": {
        "id": "CBMdPgPUO89Y"
      }
    },
    {
      "cell_type": "code",
      "execution_count": null,
      "metadata": {
        "id": "z9ZS2Tw2N857"
      },
      "outputs": [],
      "source": [
        "# Load \"numpy\" and \"pandas\" for manipulating numbers and data frames\n",
        "# Load \"matplotlib.pyplot\" and \"seaborn\" for data visualisation\n",
        "\n",
        "import numpy as np\n",
        "import pandas as pd\n",
        "import matplotlib.pyplot as plt\n",
        "import seaborn as sns"
      ]
    },
    {
      "cell_type": "markdown",
      "source": [
        "Load the csv file as pandas dataframe."
      ],
      "metadata": {
        "id": "7rdvm8PDPCgM"
      }
    },
    {
      "cell_type": "code",
      "execution_count": null,
      "metadata": {
        "id": "7p5Rg_AkN858"
      },
      "outputs": [],
      "source": [
        "# Read in the \"Dataset\" file as a Pandas Data Frame\n",
        "\n",
        "data = pd.read_csv(\"/content/Telecom Dataset.csv\")"
      ]
    },
    {
      "cell_type": "code",
      "execution_count": null,
      "metadata": {
        "id": "WdfT3N-iN859",
        "colab": {
          "base_uri": "https://localhost:8080/",
          "height": 206
        },
        "outputId": "9d80c304-23c1-4d35-fae5-efc8e16c3b8f"
      },
      "outputs": [
        {
          "output_type": "execute_result",
          "data": {
            "text/plain": [
              "       PID Blue Wi_Fi Tch_Scr Ext_Mem  Px_h  Px_w  Scr_h  Scr_w  PC  FC  \\\n",
              "0  AAB346A  yes   yes      no      no   780   460      3      1   2   2   \n",
              "1  AAC347I  yes   yes      no      no   780   560      2      1   4   2   \n",
              "2  BAB657J   no   yes      no      no   840   720      2      1   4   2   \n",
              "3  BBD456K   no   yes     yes      no  1280  1120      5      3   6   2   \n",
              "4  CCP761U   no   yes     yes      no  1280  1080      4      3   6   2   \n",
              "\n",
              "   Int_Mem  Bty_Pwr  RAM  Depth  Weight  Price  \n",
              "0        8     2800    2      7     320   3297  \n",
              "1        8     3000    2      7     280   4500  \n",
              "2        8     3300    2      7     400   4898  \n",
              "3       32     3000    2      3     300   6900  \n",
              "4       16     3000    2      3     210   5600  "
            ],
            "text/html": [
              "\n",
              "  <div id=\"df-a698b674-56c8-4b57-a561-9a19734d789b\" class=\"colab-df-container\">\n",
              "    <div>\n",
              "<style scoped>\n",
              "    .dataframe tbody tr th:only-of-type {\n",
              "        vertical-align: middle;\n",
              "    }\n",
              "\n",
              "    .dataframe tbody tr th {\n",
              "        vertical-align: top;\n",
              "    }\n",
              "\n",
              "    .dataframe thead th {\n",
              "        text-align: right;\n",
              "    }\n",
              "</style>\n",
              "<table border=\"1\" class=\"dataframe\">\n",
              "  <thead>\n",
              "    <tr style=\"text-align: right;\">\n",
              "      <th></th>\n",
              "      <th>PID</th>\n",
              "      <th>Blue</th>\n",
              "      <th>Wi_Fi</th>\n",
              "      <th>Tch_Scr</th>\n",
              "      <th>Ext_Mem</th>\n",
              "      <th>Px_h</th>\n",
              "      <th>Px_w</th>\n",
              "      <th>Scr_h</th>\n",
              "      <th>Scr_w</th>\n",
              "      <th>PC</th>\n",
              "      <th>FC</th>\n",
              "      <th>Int_Mem</th>\n",
              "      <th>Bty_Pwr</th>\n",
              "      <th>RAM</th>\n",
              "      <th>Depth</th>\n",
              "      <th>Weight</th>\n",
              "      <th>Price</th>\n",
              "    </tr>\n",
              "  </thead>\n",
              "  <tbody>\n",
              "    <tr>\n",
              "      <th>0</th>\n",
              "      <td>AAB346A</td>\n",
              "      <td>yes</td>\n",
              "      <td>yes</td>\n",
              "      <td>no</td>\n",
              "      <td>no</td>\n",
              "      <td>780</td>\n",
              "      <td>460</td>\n",
              "      <td>3</td>\n",
              "      <td>1</td>\n",
              "      <td>2</td>\n",
              "      <td>2</td>\n",
              "      <td>8</td>\n",
              "      <td>2800</td>\n",
              "      <td>2</td>\n",
              "      <td>7</td>\n",
              "      <td>320</td>\n",
              "      <td>3297</td>\n",
              "    </tr>\n",
              "    <tr>\n",
              "      <th>1</th>\n",
              "      <td>AAC347I</td>\n",
              "      <td>yes</td>\n",
              "      <td>yes</td>\n",
              "      <td>no</td>\n",
              "      <td>no</td>\n",
              "      <td>780</td>\n",
              "      <td>560</td>\n",
              "      <td>2</td>\n",
              "      <td>1</td>\n",
              "      <td>4</td>\n",
              "      <td>2</td>\n",
              "      <td>8</td>\n",
              "      <td>3000</td>\n",
              "      <td>2</td>\n",
              "      <td>7</td>\n",
              "      <td>280</td>\n",
              "      <td>4500</td>\n",
              "    </tr>\n",
              "    <tr>\n",
              "      <th>2</th>\n",
              "      <td>BAB657J</td>\n",
              "      <td>no</td>\n",
              "      <td>yes</td>\n",
              "      <td>no</td>\n",
              "      <td>no</td>\n",
              "      <td>840</td>\n",
              "      <td>720</td>\n",
              "      <td>2</td>\n",
              "      <td>1</td>\n",
              "      <td>4</td>\n",
              "      <td>2</td>\n",
              "      <td>8</td>\n",
              "      <td>3300</td>\n",
              "      <td>2</td>\n",
              "      <td>7</td>\n",
              "      <td>400</td>\n",
              "      <td>4898</td>\n",
              "    </tr>\n",
              "    <tr>\n",
              "      <th>3</th>\n",
              "      <td>BBD456K</td>\n",
              "      <td>no</td>\n",
              "      <td>yes</td>\n",
              "      <td>yes</td>\n",
              "      <td>no</td>\n",
              "      <td>1280</td>\n",
              "      <td>1120</td>\n",
              "      <td>5</td>\n",
              "      <td>3</td>\n",
              "      <td>6</td>\n",
              "      <td>2</td>\n",
              "      <td>32</td>\n",
              "      <td>3000</td>\n",
              "      <td>2</td>\n",
              "      <td>3</td>\n",
              "      <td>300</td>\n",
              "      <td>6900</td>\n",
              "    </tr>\n",
              "    <tr>\n",
              "      <th>4</th>\n",
              "      <td>CCP761U</td>\n",
              "      <td>no</td>\n",
              "      <td>yes</td>\n",
              "      <td>yes</td>\n",
              "      <td>no</td>\n",
              "      <td>1280</td>\n",
              "      <td>1080</td>\n",
              "      <td>4</td>\n",
              "      <td>3</td>\n",
              "      <td>6</td>\n",
              "      <td>2</td>\n",
              "      <td>16</td>\n",
              "      <td>3000</td>\n",
              "      <td>2</td>\n",
              "      <td>3</td>\n",
              "      <td>210</td>\n",
              "      <td>5600</td>\n",
              "    </tr>\n",
              "  </tbody>\n",
              "</table>\n",
              "</div>\n",
              "    <div class=\"colab-df-buttons\">\n",
              "\n",
              "  <div class=\"colab-df-container\">\n",
              "    <button class=\"colab-df-convert\" onclick=\"convertToInteractive('df-a698b674-56c8-4b57-a561-9a19734d789b')\"\n",
              "            title=\"Convert this dataframe to an interactive table.\"\n",
              "            style=\"display:none;\">\n",
              "\n",
              "  <svg xmlns=\"http://www.w3.org/2000/svg\" height=\"24px\" viewBox=\"0 -960 960 960\">\n",
              "    <path d=\"M120-120v-720h720v720H120Zm60-500h600v-160H180v160Zm220 220h160v-160H400v160Zm0 220h160v-160H400v160ZM180-400h160v-160H180v160Zm440 0h160v-160H620v160ZM180-180h160v-160H180v160Zm440 0h160v-160H620v160Z\"/>\n",
              "  </svg>\n",
              "    </button>\n",
              "\n",
              "  <style>\n",
              "    .colab-df-container {\n",
              "      display:flex;\n",
              "      gap: 12px;\n",
              "    }\n",
              "\n",
              "    .colab-df-convert {\n",
              "      background-color: #E8F0FE;\n",
              "      border: none;\n",
              "      border-radius: 50%;\n",
              "      cursor: pointer;\n",
              "      display: none;\n",
              "      fill: #1967D2;\n",
              "      height: 32px;\n",
              "      padding: 0 0 0 0;\n",
              "      width: 32px;\n",
              "    }\n",
              "\n",
              "    .colab-df-convert:hover {\n",
              "      background-color: #E2EBFA;\n",
              "      box-shadow: 0px 1px 2px rgba(60, 64, 67, 0.3), 0px 1px 3px 1px rgba(60, 64, 67, 0.15);\n",
              "      fill: #174EA6;\n",
              "    }\n",
              "\n",
              "    .colab-df-buttons div {\n",
              "      margin-bottom: 4px;\n",
              "    }\n",
              "\n",
              "    [theme=dark] .colab-df-convert {\n",
              "      background-color: #3B4455;\n",
              "      fill: #D2E3FC;\n",
              "    }\n",
              "\n",
              "    [theme=dark] .colab-df-convert:hover {\n",
              "      background-color: #434B5C;\n",
              "      box-shadow: 0px 1px 3px 1px rgba(0, 0, 0, 0.15);\n",
              "      filter: drop-shadow(0px 1px 2px rgba(0, 0, 0, 0.3));\n",
              "      fill: #FFFFFF;\n",
              "    }\n",
              "  </style>\n",
              "\n",
              "    <script>\n",
              "      const buttonEl =\n",
              "        document.querySelector('#df-a698b674-56c8-4b57-a561-9a19734d789b button.colab-df-convert');\n",
              "      buttonEl.style.display =\n",
              "        google.colab.kernel.accessAllowed ? 'block' : 'none';\n",
              "\n",
              "      async function convertToInteractive(key) {\n",
              "        const element = document.querySelector('#df-a698b674-56c8-4b57-a561-9a19734d789b');\n",
              "        const dataTable =\n",
              "          await google.colab.kernel.invokeFunction('convertToInteractive',\n",
              "                                                    [key], {});\n",
              "        if (!dataTable) return;\n",
              "\n",
              "        const docLinkHtml = 'Like what you see? Visit the ' +\n",
              "          '<a target=\"_blank\" href=https://colab.research.google.com/notebooks/data_table.ipynb>data table notebook</a>'\n",
              "          + ' to learn more about interactive tables.';\n",
              "        element.innerHTML = '';\n",
              "        dataTable['output_type'] = 'display_data';\n",
              "        await google.colab.output.renderOutput(dataTable, element);\n",
              "        const docLink = document.createElement('div');\n",
              "        docLink.innerHTML = docLinkHtml;\n",
              "        element.appendChild(docLink);\n",
              "      }\n",
              "    </script>\n",
              "  </div>\n",
              "\n",
              "\n",
              "<div id=\"df-5a61018c-a976-4abb-a75f-50ae39ad4617\">\n",
              "  <button class=\"colab-df-quickchart\" onclick=\"quickchart('df-5a61018c-a976-4abb-a75f-50ae39ad4617')\"\n",
              "            title=\"Suggest charts\"\n",
              "            style=\"display:none;\">\n",
              "\n",
              "<svg xmlns=\"http://www.w3.org/2000/svg\" height=\"24px\"viewBox=\"0 0 24 24\"\n",
              "     width=\"24px\">\n",
              "    <g>\n",
              "        <path d=\"M19 3H5c-1.1 0-2 .9-2 2v14c0 1.1.9 2 2 2h14c1.1 0 2-.9 2-2V5c0-1.1-.9-2-2-2zM9 17H7v-7h2v7zm4 0h-2V7h2v10zm4 0h-2v-4h2v4z\"/>\n",
              "    </g>\n",
              "</svg>\n",
              "  </button>\n",
              "\n",
              "<style>\n",
              "  .colab-df-quickchart {\n",
              "      --bg-color: #E8F0FE;\n",
              "      --fill-color: #1967D2;\n",
              "      --hover-bg-color: #E2EBFA;\n",
              "      --hover-fill-color: #174EA6;\n",
              "      --disabled-fill-color: #AAA;\n",
              "      --disabled-bg-color: #DDD;\n",
              "  }\n",
              "\n",
              "  [theme=dark] .colab-df-quickchart {\n",
              "      --bg-color: #3B4455;\n",
              "      --fill-color: #D2E3FC;\n",
              "      --hover-bg-color: #434B5C;\n",
              "      --hover-fill-color: #FFFFFF;\n",
              "      --disabled-bg-color: #3B4455;\n",
              "      --disabled-fill-color: #666;\n",
              "  }\n",
              "\n",
              "  .colab-df-quickchart {\n",
              "    background-color: var(--bg-color);\n",
              "    border: none;\n",
              "    border-radius: 50%;\n",
              "    cursor: pointer;\n",
              "    display: none;\n",
              "    fill: var(--fill-color);\n",
              "    height: 32px;\n",
              "    padding: 0;\n",
              "    width: 32px;\n",
              "  }\n",
              "\n",
              "  .colab-df-quickchart:hover {\n",
              "    background-color: var(--hover-bg-color);\n",
              "    box-shadow: 0 1px 2px rgba(60, 64, 67, 0.3), 0 1px 3px 1px rgba(60, 64, 67, 0.15);\n",
              "    fill: var(--button-hover-fill-color);\n",
              "  }\n",
              "\n",
              "  .colab-df-quickchart-complete:disabled,\n",
              "  .colab-df-quickchart-complete:disabled:hover {\n",
              "    background-color: var(--disabled-bg-color);\n",
              "    fill: var(--disabled-fill-color);\n",
              "    box-shadow: none;\n",
              "  }\n",
              "\n",
              "  .colab-df-spinner {\n",
              "    border: 2px solid var(--fill-color);\n",
              "    border-color: transparent;\n",
              "    border-bottom-color: var(--fill-color);\n",
              "    animation:\n",
              "      spin 1s steps(1) infinite;\n",
              "  }\n",
              "\n",
              "  @keyframes spin {\n",
              "    0% {\n",
              "      border-color: transparent;\n",
              "      border-bottom-color: var(--fill-color);\n",
              "      border-left-color: var(--fill-color);\n",
              "    }\n",
              "    20% {\n",
              "      border-color: transparent;\n",
              "      border-left-color: var(--fill-color);\n",
              "      border-top-color: var(--fill-color);\n",
              "    }\n",
              "    30% {\n",
              "      border-color: transparent;\n",
              "      border-left-color: var(--fill-color);\n",
              "      border-top-color: var(--fill-color);\n",
              "      border-right-color: var(--fill-color);\n",
              "    }\n",
              "    40% {\n",
              "      border-color: transparent;\n",
              "      border-right-color: var(--fill-color);\n",
              "      border-top-color: var(--fill-color);\n",
              "    }\n",
              "    60% {\n",
              "      border-color: transparent;\n",
              "      border-right-color: var(--fill-color);\n",
              "    }\n",
              "    80% {\n",
              "      border-color: transparent;\n",
              "      border-right-color: var(--fill-color);\n",
              "      border-bottom-color: var(--fill-color);\n",
              "    }\n",
              "    90% {\n",
              "      border-color: transparent;\n",
              "      border-bottom-color: var(--fill-color);\n",
              "    }\n",
              "  }\n",
              "</style>\n",
              "\n",
              "  <script>\n",
              "    async function quickchart(key) {\n",
              "      const quickchartButtonEl =\n",
              "        document.querySelector('#' + key + ' button');\n",
              "      quickchartButtonEl.disabled = true;  // To prevent multiple clicks.\n",
              "      quickchartButtonEl.classList.add('colab-df-spinner');\n",
              "      try {\n",
              "        const charts = await google.colab.kernel.invokeFunction(\n",
              "            'suggestCharts', [key], {});\n",
              "      } catch (error) {\n",
              "        console.error('Error during call to suggestCharts:', error);\n",
              "      }\n",
              "      quickchartButtonEl.classList.remove('colab-df-spinner');\n",
              "      quickchartButtonEl.classList.add('colab-df-quickchart-complete');\n",
              "    }\n",
              "    (() => {\n",
              "      let quickchartButtonEl =\n",
              "        document.querySelector('#df-5a61018c-a976-4abb-a75f-50ae39ad4617 button');\n",
              "      quickchartButtonEl.style.display =\n",
              "        google.colab.kernel.accessAllowed ? 'block' : 'none';\n",
              "    })();\n",
              "  </script>\n",
              "</div>\n",
              "\n",
              "    </div>\n",
              "  </div>\n"
            ],
            "application/vnd.google.colaboratory.intrinsic+json": {
              "type": "dataframe",
              "variable_name": "data",
              "summary": "{\n  \"name\": \"data\",\n  \"rows\": 50,\n  \"fields\": [\n    {\n      \"column\": \"PID\",\n      \"properties\": {\n        \"dtype\": \"string\",\n        \"num_unique_values\": 50,\n        \"samples\": [\n          \"NAJ56GL\",\n          \"VYI666I\",\n          \"TVF078Y\"\n        ],\n        \"semantic_type\": \"\",\n        \"description\": \"\"\n      }\n    },\n    {\n      \"column\": \"Blue\",\n      \"properties\": {\n        \"dtype\": \"category\",\n        \"num_unique_values\": 2,\n        \"samples\": [\n          \"no\",\n          \"yes\"\n        ],\n        \"semantic_type\": \"\",\n        \"description\": \"\"\n      }\n    },\n    {\n      \"column\": \"Wi_Fi\",\n      \"properties\": {\n        \"dtype\": \"category\",\n        \"num_unique_values\": 2,\n        \"samples\": [\n          \"no\",\n          \"yes\"\n        ],\n        \"semantic_type\": \"\",\n        \"description\": \"\"\n      }\n    },\n    {\n      \"column\": \"Tch_Scr\",\n      \"properties\": {\n        \"dtype\": \"category\",\n        \"num_unique_values\": 2,\n        \"samples\": [\n          \"yes\",\n          \"no\"\n        ],\n        \"semantic_type\": \"\",\n        \"description\": \"\"\n      }\n    },\n    {\n      \"column\": \"Ext_Mem\",\n      \"properties\": {\n        \"dtype\": \"category\",\n        \"num_unique_values\": 2,\n        \"samples\": [\n          \"yes\",\n          \"no\"\n        ],\n        \"semantic_type\": \"\",\n        \"description\": \"\"\n      }\n    },\n    {\n      \"column\": \"Px_h\",\n      \"properties\": {\n        \"dtype\": \"number\",\n        \"std\": 598,\n        \"min\": 780,\n        \"max\": 2880,\n        \"num_unique_values\": 10,\n        \"samples\": [\n          1440,\n          840\n        ],\n        \"semantic_type\": \"\",\n        \"description\": \"\"\n      }\n    },\n    {\n      \"column\": \"Px_w\",\n      \"properties\": {\n        \"dtype\": \"number\",\n        \"std\": 469,\n        \"min\": 460,\n        \"max\": 2520,\n        \"num_unique_values\": 12,\n        \"samples\": [\n          1280,\n          1760\n        ],\n        \"semantic_type\": \"\",\n        \"description\": \"\"\n      }\n    },\n    {\n      \"column\": \"Scr_h\",\n      \"properties\": {\n        \"dtype\": \"number\",\n        \"std\": 2,\n        \"min\": 2,\n        \"max\": 10,\n        \"num_unique_values\": 7,\n        \"samples\": [\n          3,\n          2\n        ],\n        \"semantic_type\": \"\",\n        \"description\": \"\"\n      }\n    },\n    {\n      \"column\": \"Scr_w\",\n      \"properties\": {\n        \"dtype\": \"number\",\n        \"std\": 1,\n        \"min\": 1,\n        \"max\": 8,\n        \"num_unique_values\": 6,\n        \"samples\": [\n          1,\n          3\n        ],\n        \"semantic_type\": \"\",\n        \"description\": \"\"\n      }\n    },\n    {\n      \"column\": \"PC\",\n      \"properties\": {\n        \"dtype\": \"number\",\n        \"std\": 30,\n        \"min\": 2,\n        \"max\": 128,\n        \"num_unique_values\": 11,\n        \"samples\": [\n          32,\n          2\n        ],\n        \"semantic_type\": \"\",\n        \"description\": \"\"\n      }\n    },\n    {\n      \"column\": \"FC\",\n      \"properties\": {\n        \"dtype\": \"number\",\n        \"std\": 14,\n        \"min\": 2,\n        \"max\": 64,\n        \"num_unique_values\": 7,\n        \"samples\": [\n          2,\n          4\n        ],\n        \"semantic_type\": \"\",\n        \"description\": \"\"\n      }\n    },\n    {\n      \"column\": \"Int_Mem\",\n      \"properties\": {\n        \"dtype\": \"number\",\n        \"std\": 261,\n        \"min\": 8,\n        \"max\": 1024,\n        \"num_unique_values\": 8,\n        \"samples\": [\n          32,\n          512\n        ],\n        \"semantic_type\": \"\",\n        \"description\": \"\"\n      }\n    },\n    {\n      \"column\": \"Bty_Pwr\",\n      \"properties\": {\n        \"dtype\": \"number\",\n        \"std\": 958,\n        \"min\": 2300,\n        \"max\": 5600,\n        \"num_unique_values\": 19,\n        \"samples\": [\n          2800,\n          4380\n        ],\n        \"semantic_type\": \"\",\n        \"description\": \"\"\n      }\n    },\n    {\n      \"column\": \"RAM\",\n      \"properties\": {\n        \"dtype\": \"number\",\n        \"std\": 2,\n        \"min\": 2,\n        \"max\": 12,\n        \"num_unique_values\": 5,\n        \"samples\": [\n          6,\n          12\n        ],\n        \"semantic_type\": \"\",\n        \"description\": \"\"\n      }\n    },\n    {\n      \"column\": \"Depth\",\n      \"properties\": {\n        \"dtype\": \"number\",\n        \"std\": 1,\n        \"min\": 2,\n        \"max\": 7,\n        \"num_unique_values\": 4,\n        \"samples\": [\n          3,\n          2\n        ],\n        \"semantic_type\": \"\",\n        \"description\": \"\"\n      }\n    },\n    {\n      \"column\": \"Weight\",\n      \"properties\": {\n        \"dtype\": \"number\",\n        \"std\": 75,\n        \"min\": 80,\n        \"max\": 400,\n        \"num_unique_values\": 25,\n        \"samples\": [\n          120,\n          170\n        ],\n        \"semantic_type\": \"\",\n        \"description\": \"\"\n      }\n    },\n    {\n      \"column\": \"Price\",\n      \"properties\": {\n        \"dtype\": \"number\",\n        \"std\": 25037,\n        \"min\": 3297,\n        \"max\": 149000,\n        \"num_unique_values\": 49,\n        \"samples\": [\n          23600,\n          56000\n        ],\n        \"semantic_type\": \"\",\n        \"description\": \"\"\n      }\n    }\n  ]\n}"
            }
          },
          "metadata": {},
          "execution_count": 65
        }
      ],
      "source": [
        "# Take a brief look at the data\n",
        "\n",
        "data.head()"
      ]
    },
    {
      "cell_type": "code",
      "execution_count": null,
      "metadata": {
        "id": "0jdoVTnIN85_",
        "colab": {
          "base_uri": "https://localhost:8080/"
        },
        "outputId": "9ecaad0c-6895-4e75-f057-3f2b9d4a4f95"
      },
      "outputs": [
        {
          "output_type": "execute_result",
          "data": {
            "text/plain": [
              "(50, 17)"
            ]
          },
          "metadata": {},
          "execution_count": 66
        }
      ],
      "source": [
        "# Get the dimensions of the dataframe\n",
        "\n",
        "data.shape"
      ]
    },
    {
      "cell_type": "code",
      "execution_count": null,
      "metadata": {
        "id": "y28qZAzdN86B",
        "colab": {
          "base_uri": "https://localhost:8080/"
        },
        "outputId": "5d49fdeb-979c-4fc2-8703-68b7fd803e10"
      },
      "outputs": [
        {
          "output_type": "execute_result",
          "data": {
            "text/plain": [
              "RangeIndex(start=0, stop=50, step=1)"
            ]
          },
          "metadata": {},
          "execution_count": 67
        }
      ],
      "source": [
        "# Get the row names of the dataframe\n",
        "\n",
        "data.index"
      ]
    },
    {
      "cell_type": "code",
      "execution_count": null,
      "metadata": {
        "id": "u3wUbIm7N86C",
        "colab": {
          "base_uri": "https://localhost:8080/"
        },
        "outputId": "8db3cdb4-a07a-44d4-a06b-f893e53fec76"
      },
      "outputs": [
        {
          "output_type": "execute_result",
          "data": {
            "text/plain": [
              "Index(['PID', 'Blue', 'Wi_Fi', 'Tch_Scr', 'Ext_Mem', 'Px_h', 'Px_w', 'Scr_h',\n",
              "       'Scr_w', 'PC', 'FC', 'Int_Mem', 'Bty_Pwr', 'RAM', 'Depth', 'Weight',\n",
              "       'Price'],\n",
              "      dtype='object')"
            ]
          },
          "metadata": {},
          "execution_count": 68
        }
      ],
      "source": [
        "# Get the column names of the dataframe\n",
        "\n",
        "data.columns"
      ]
    },
    {
      "cell_type": "code",
      "execution_count": null,
      "metadata": {
        "id": "zoJdOWbKN86D",
        "colab": {
          "base_uri": "https://localhost:8080/"
        },
        "outputId": "7cac4207-2ef2-4956-c790-672edf7a52b9"
      },
      "outputs": [
        {
          "output_type": "stream",
          "name": "stdout",
          "text": [
            "<class 'pandas.core.frame.DataFrame'>\n",
            "RangeIndex: 50 entries, 0 to 49\n",
            "Data columns (total 17 columns):\n",
            " #   Column   Non-Null Count  Dtype \n",
            "---  ------   --------------  ----- \n",
            " 0   PID      50 non-null     object\n",
            " 1   Blue     50 non-null     object\n",
            " 2   Wi_Fi    50 non-null     object\n",
            " 3   Tch_Scr  50 non-null     object\n",
            " 4   Ext_Mem  50 non-null     object\n",
            " 5   Px_h     50 non-null     int64 \n",
            " 6   Px_w     50 non-null     int64 \n",
            " 7   Scr_h    50 non-null     int64 \n",
            " 8   Scr_w    50 non-null     int64 \n",
            " 9   PC       50 non-null     int64 \n",
            " 10  FC       50 non-null     int64 \n",
            " 11  Int_Mem  50 non-null     int64 \n",
            " 12  Bty_Pwr  50 non-null     int64 \n",
            " 13  RAM      50 non-null     int64 \n",
            " 14  Depth    50 non-null     int64 \n",
            " 15  Weight   50 non-null     int64 \n",
            " 16  Price    50 non-null     int64 \n",
            "dtypes: int64(12), object(5)\n",
            "memory usage: 6.8+ KB\n"
          ]
        }
      ],
      "source": [
        "# Look at basic information about the dataframe\n",
        "\n",
        "data.info()"
      ]
    },
    {
      "cell_type": "markdown",
      "source": [
        "Observations:\n",
        "\n",
        "There are 50 phones in the data set.\n",
        "\n",
        "There are 17 features in the data set including the \"PID\" feature which is used as the row index labels.\n",
        "\n",
        "There are no missing values in the data set."
      ],
      "metadata": {
        "id": "Yp1sfFKKQQLR"
      }
    },
    {
      "cell_type": "code",
      "execution_count": null,
      "metadata": {
        "id": "F7O4y4kyN86F"
      },
      "outputs": [],
      "source": []
    },
    {
      "cell_type": "markdown",
      "source": [
        "<center>Let's try some logical operators to filter the data.<center>"
      ],
      "metadata": {
        "id": "K6wSkK61E57v"
      }
    },
    {
      "cell_type": "markdown",
      "source": [
        "![](https://th.bing.com/th/id/R.0592084daa6518e4fae97f47217ec69e?rik=vNqmiaTVSSo54w&riu=http%3a%2f%2f2.bp.blogspot.com%2f-ujABms6N-Cg%2fTyYwShdTjnI%2fAAAAAAAAAAs%2fktPbHdifidc%2fs1600%2fLogical%2bOperators.PNG&ehk=ww1gl1HB2PcZwPQNHWRUvcQ631Q3mzyHSxL9G4zUKT4%3d&risl=&pid=ImgRaw&r=0,width=700,height=400)"
      ],
      "metadata": {
        "id": "Fjx3ajuFFN5H"
      }
    },
    {
      "cell_type": "markdown",
      "source": [
        "## Task 2 - Obtain the logical conditions for the features \"Blue\", \"Wi_Fi\", \"Tch_Scr\" and \"Ext_Mem\""
      ],
      "metadata": {
        "id": "zBarC8WVQZG7"
      }
    },
    {
      "cell_type": "code",
      "execution_count": null,
      "metadata": {
        "id": "RAV76P19N86G",
        "colab": {
          "base_uri": "https://localhost:8080/"
        },
        "outputId": "0e8f96a2-5d2b-467b-9e0b-de3e0c67d23f"
      },
      "outputs": [
        {
          "output_type": "execute_result",
          "data": {
            "text/plain": [
              "Index(['PID', 'Blue', 'Wi_Fi', 'Tch_Scr', 'Ext_Mem', 'Px_h', 'Px_w', 'Scr_h',\n",
              "       'Scr_w', 'PC', 'FC', 'Int_Mem', 'Bty_Pwr', 'RAM', 'Depth', 'Weight',\n",
              "       'Price'],\n",
              "      dtype='object')"
            ]
          },
          "metadata": {},
          "execution_count": 70
        }
      ],
      "source": [
        "# Get the feature names of the dataframe\n",
        "\n",
        "data.columns"
      ]
    },
    {
      "cell_type": "code",
      "execution_count": null,
      "metadata": {
        "id": "4qnHqu_vN86H"
      },
      "outputs": [],
      "source": [
        "# Let's tackle these features: \"Blue\", \"Wi_Fi\", \"Tch_Scr\", \"Ext_Mem\""
      ]
    },
    {
      "cell_type": "code",
      "execution_count": null,
      "metadata": {
        "id": "8N-jff5hN86I"
      },
      "outputs": [],
      "source": [
        "# The children want phones that have the following: Bluetooth, WiFi, touch screen and external memory support\n",
        "# Create a logical condition for this situation and store the logical values as \"con1\"\n",
        "\n",
        "con1 = (data[\"Blue\"] == \"Yes\") & (data[\"Wi_Fi\"] == \"Yes\") & (data[\"Tch_Scr\"] == \"Yes\") & (data[\"Ext_Mem\"] == \"Yes\")"
      ]
    },
    {
      "cell_type": "markdown",
      "source": [
        "Observations:\n",
        "\n",
        "The features \"Blue\", \"Wi_Fi\", \"Tch_Scr\" and \"Ext_Mem\" are binary in nature.\n",
        "\n",
        "The children want all these features, so the logical condition \"con1\" has been obtained accordingly."
      ],
      "metadata": {
        "id": "KilesitnQjMF"
      }
    },
    {
      "cell_type": "markdown",
      "source": [
        "## Task 3 - Obtain the logical conditions for the features \"Px_h\" and \"Px_w\""
      ],
      "metadata": {
        "id": "n8qZScOZQsj3"
      }
    },
    {
      "cell_type": "code",
      "execution_count": null,
      "metadata": {
        "id": "UgpsX9ZYN86M",
        "colab": {
          "base_uri": "https://localhost:8080/"
        },
        "outputId": "03fcb81a-f673-4d70-d839-ae914000c42f"
      },
      "outputs": [
        {
          "output_type": "execute_result",
          "data": {
            "text/plain": [
              "Index(['PID', 'Blue', 'Wi_Fi', 'Tch_Scr', 'Ext_Mem', 'Px_h', 'Px_w', 'Scr_h',\n",
              "       'Scr_w', 'PC', 'FC', 'Int_Mem', 'Bty_Pwr', 'RAM', 'Depth', 'Weight',\n",
              "       'Price'],\n",
              "      dtype='object')"
            ]
          },
          "metadata": {},
          "execution_count": 73
        }
      ],
      "source": [
        "# Get the feature names of the dataframe\n",
        "\n",
        "data.columns"
      ]
    },
    {
      "cell_type": "code",
      "execution_count": null,
      "metadata": {
        "id": "HvY0q-JeN86N"
      },
      "outputs": [],
      "source": [
        "# Let's tackle these features: \"Px_h\", \"Px_w\""
      ]
    },
    {
      "cell_type": "code",
      "execution_count": null,
      "metadata": {
        "id": "9g8VvPLiN86O"
      },
      "outputs": [],
      "source": [
        "# Create a new feature called \"Px\" which stores the total resolution of the screen\n",
        "\n",
        "Px = data[\"Px_h\"] * data[\"Px_w\"]"
      ]
    },
    {
      "cell_type": "code",
      "execution_count": null,
      "metadata": {
        "id": "nbYsIHpjN86P",
        "colab": {
          "base_uri": "https://localhost:8080/",
          "height": 472
        },
        "outputId": "08d3ddab-578c-4395-e99a-f5045040df7e"
      },
      "outputs": [
        {
          "output_type": "display_data",
          "data": {
            "text/plain": [
              "<Figure size 640x480 with 1 Axes>"
            ],
            "image/png": "[encoded data removed]"
          },
          "metadata": {}
        }
      ],
      "source": [
        "# Create a histogram of the \"Px\" feature and also show the mean and the median\n",
        "\n",
        "plt.hist(Px)\n",
        "plt.title(\"Histogram of Px\")\n",
        "plt.xlabel(\"Px\")\n",
        "plt.ylabel(\"Frequency\")\n",
        "plt.axvline(Px.mean(), color='r', linestyle='dashed', linewidth=2)\n",
        "plt.axvline(Px.median(), color='k', linestyle='dashed', linewidth=2)\n",
        "plt.show()"
      ]
    },
    {
      "cell_type": "code",
      "execution_count": null,
      "metadata": {
        "id": "SxaYgagyN86Q"
      },
      "outputs": [],
      "source": [
        "# The children want phones that have good screen resolutions\n",
        "# Consider the phones that have screen resolutions greater than or equal to the median value in the data set\n",
        "# Create a logical condition for this situation and store the logical values as \"con2\"\n",
        "\n",
        "con2 = Px >= Px.median()"
      ]
    },
    {
      "cell_type": "markdown",
      "source": [
        "Observations:\n",
        "\n",
        "The features \"Px_h\" and \"Px_w\" are respectively the number of pixels in the phone screen in the vertical and horizontal axes.\n",
        "\n",
        "We created a new feature called \"Px\" which is the product of the features \"Px_h\" and \"Px_w\".\n",
        "\n",
        "The median has been selected as a threshold in this case.\n",
        "\n",
        "In case it is too strict, we can choose the mean as a threshold."
      ],
      "metadata": {
        "id": "M-DC9VY2RBZQ"
      }
    },
    {
      "cell_type": "markdown",
      "source": [
        "# Task 4 - Obtain the logical conditions for the features \"Scr_h\" and \"Scr_w\""
      ],
      "metadata": {
        "id": "ih3ev8-0RJg5"
      }
    },
    {
      "cell_type": "code",
      "execution_count": null,
      "metadata": {
        "id": "EsEcEKKTN86T"
      },
      "outputs": [],
      "source": [
        "# Let's tackle these features: \"Scr_h\", \"Scr_w\""
      ]
    },
    {
      "cell_type": "code",
      "execution_count": null,
      "metadata": {
        "id": "qTOcx3FCN86U"
      },
      "outputs": [],
      "source": [
        "# Create a new feature called \"Scr_d\" which stores the length of the diagonal of the screen of the phone\n",
        "\n",
        "Scr_d = np.sqrt(data[\"Scr_h\"]**2 + data[\"Scr_w\"]**2)"
      ]
    },
    {
      "cell_type": "code",
      "execution_count": null,
      "metadata": {
        "id": "83gzdEN7N86U",
        "colab": {
          "base_uri": "https://localhost:8080/",
          "height": 472
        },
        "outputId": "76e79328-47eb-4283-d0e3-641cdea9e5d4"
      },
      "outputs": [
        {
          "output_type": "display_data",
          "data": {
            "text/plain": [
              "<Figure size 640x480 with 1 Axes>"
            ],
            "image/png": "[encoded data removed]"
          },
          "metadata": {}
        }
      ],
      "source": [
        "# Create a histogram of the \"Scr_d\" feature and also show the quartiles\n",
        "\n",
        "plt.hist(Scr_d)\n",
        "plt.title(\"Histogram of Scr_d\")\n",
        "plt.xlabel(\"Scr_d\")\n",
        "plt.ylabel(\"Frequency\")\n",
        "plt.axvline(Scr_d.quantile(0.25), color='r', linestyle='dashed', linewidth=2)\n",
        "plt.axvline(Scr_d.quantile(0.5), color='k', linestyle='dashed', linewidth=2)\n",
        "plt.axvline(Scr_d.quantile(0.75), color='b', linestyle='dashed', linewidth=2)\n",
        "plt.show()"
      ]
    },
    {
      "cell_type": "code",
      "execution_count": null,
      "metadata": {
        "id": "aEvL_TPSN86V"
      },
      "outputs": [],
      "source": [
        "# The children want phones that have very good screen sizes\n",
        "# Consider the phones that have screen sizes greater than or equal to the upper quartile value in the data set\n",
        "# Create a logical condition for this situation and store the logical values as \"con3\"\n",
        "\n",
        "con3 = Scr_d >= Scr_d.quantile(0.75)"
      ]
    },
    {
      "cell_type": "markdown",
      "source": [
        "Observations:\n",
        "\n",
        "The features \"Scr_h\" and \"Scr_w\" are respectively the height and the width of the phone screen.\n",
        "\n",
        "We created a new feature called \"Scr_d\" which is essentially the length of the screen diagonal.\n",
        "\n",
        "The upper quartile has been selected as a threshold in this case as the children were very particular on this point.\n",
        "\n",
        "In case it is too strict, we can choose the mean or the median as a threshold."
      ],
      "metadata": {
        "id": "BKDitmp9RZDe"
      }
    },
    {
      "cell_type": "markdown",
      "source": [
        "# Task 5 - Obtain the logical conditions for the features \"PC\" and \"FC\""
      ],
      "metadata": {
        "id": "21dZEsZRRikD"
      }
    },
    {
      "cell_type": "code",
      "execution_count": null,
      "metadata": {
        "id": "lCQR8DBRN86Y"
      },
      "outputs": [],
      "source": [
        "# Let's tackle these features: \"PC\", \"FC\""
      ]
    },
    {
      "cell_type": "code",
      "execution_count": null,
      "metadata": {
        "id": "KtH-XWmqN86Z",
        "colab": {
          "base_uri": "https://localhost:8080/",
          "height": 472
        },
        "outputId": "8d295142-10d7-4eb6-efcb-af084864a44f"
      },
      "outputs": [
        {
          "output_type": "display_data",
          "data": {
            "text/plain": [
              "<Figure size 640x480 with 1 Axes>"
            ],
            "image/png": "[encoded data removed]"
          },
          "metadata": {}
        }
      ],
      "source": [
        "# Create a histogram of the \"PC\" feature and also show the mean and the median\n",
        "\n",
        "plt.hist(data[\"PC\"])\n",
        "plt.title(\"Histogram of PC\")\n",
        "plt.xlabel(\"PC\")\n",
        "plt.ylabel(\"Frequency\")\n",
        "plt.axvline(data[\"PC\"].mean(), color='r', linestyle='dashed', linewidth=2)\n",
        "plt.axvline(data[\"PC\"].median(), color='k', linestyle='dashed', linewidth=2)\n",
        "plt.show()"
      ]
    },
    {
      "cell_type": "code",
      "execution_count": null,
      "metadata": {
        "id": "vMp3OWR0N86a",
        "colab": {
          "base_uri": "https://localhost:8080/",
          "height": 472
        },
        "outputId": "6e2417e5-f3a3-442c-ea60-8592f466d96b"
      },
      "outputs": [
        {
          "output_type": "display_data",
          "data": {
            "text/plain": [
              "<Figure size 640x480 with 1 Axes>"
            ],
            "image/png": "[encoded data removed]"
          },
          "metadata": {}
        }
      ],
      "source": [
        "# Create a histogram of the \"FC\" feature and also show the mean and the median\n",
        "\n",
        "plt.hist(data[\"FC\"])\n",
        "plt.title(\"Histogram of FC\")\n",
        "plt.xlabel(\"FC\")\n",
        "plt.ylabel(\"Frequency\")\n",
        "plt.axvline(data[\"FC\"].mean(), color='r', linestyle='dashed', linewidth=2)\n",
        "plt.axvline(data[\"FC\"].median(), color='k', linestyle='dashed', linewidth=2)\n",
        "plt.show()"
      ]
    },
    {
      "cell_type": "code",
      "execution_count": null,
      "metadata": {
        "id": "uwOY8IGoN86a"
      },
      "outputs": [],
      "source": [
        "# The children want phones that have good primary and front camera resolutions\n",
        "# Consider the phones that have primary and front camera resolutions greater than or equal to their respective mean values\n",
        "# Create a logical condition for this situation and store the logical values as \"con4\"\n",
        "\n",
        "con4 = (data[\"PC\"] >= data[\"PC\"].mean()) & (data[\"FC\"] >= data[\"FC\"].mean())"
      ]
    },
    {
      "cell_type": "markdown",
      "source": [
        "Observations:\n",
        "\n",
        "The features \"PC\" and \"FC\" are respectively the resolutions of the primary camera and the front camera.\n",
        "\n",
        "The respective means have been selected as thresholds in this case.\n",
        "\n",
        "In case it is too strict, we can choose the respective medians as thresholds."
      ],
      "metadata": {
        "id": "jo7yqfJSRvNT"
      }
    },
    {
      "cell_type": "markdown",
      "source": [
        "# Task 6 - Obtain the logical conditions for the features \"Int_Mem\", \"Bty_Pwr\" and \"RAM\""
      ],
      "metadata": {
        "id": "iu0E_MTAR3Pn"
      }
    },
    {
      "cell_type": "code",
      "execution_count": null,
      "metadata": {
        "id": "tnBJk7xFN86d"
      },
      "outputs": [],
      "source": [
        "# Let's tackle these features: \"Int_Mem\", \"Bty_Pwr\", \"RAM\""
      ]
    },
    {
      "cell_type": "code",
      "execution_count": null,
      "metadata": {
        "id": "YMBT6fVEN86e",
        "colab": {
          "base_uri": "https://localhost:8080/",
          "height": 472
        },
        "outputId": "b0ccc7aa-2fa0-4c41-8392-6ce972086522"
      },
      "outputs": [
        {
          "output_type": "display_data",
          "data": {
            "text/plain": [
              "<Figure size 640x480 with 1 Axes>"
            ],
            "image/png": "[encoded data removed]"
          },
          "metadata": {}
        }
      ],
      "source": [
        "# Create a histogram of the \"Int_Mem\" feature and also show the mean and the median\n",
        "\n",
        "plt.hist(data[\"Int_Mem\"])\n",
        "plt.title(\"Histogram of Int_Mem\")\n",
        "plt.xlabel(\"Int_Mem\")\n",
        "plt.ylabel(\"Frequency\")\n",
        "plt.axvline(data[\"Int_Mem\"].mean(), color='r', linestyle='dashed', linewidth=2)\n",
        "plt.axvline(data[\"Int_Mem\"].median(), color='k', linestyle='dashed', linewidth=2)\n",
        "plt.show()"
      ]
    },
    {
      "cell_type": "code",
      "execution_count": null,
      "metadata": {
        "id": "oPjFp16vN86e",
        "colab": {
          "base_uri": "https://localhost:8080/",
          "height": 472
        },
        "outputId": "cee36928-b140-464a-8eb8-90f486f17083"
      },
      "outputs": [
        {
          "output_type": "display_data",
          "data": {
            "text/plain": [
              "<Figure size 640x480 with 1 Axes>"
            ],
            "image/png": "[encoded data removed]"
          },
          "metadata": {}
        }
      ],
      "source": [
        "# Create a histogram of the \"Bty_Pwr\" feature and also show the mean and the median\n",
        "\n",
        "plt.hist(data[\"Bty_Pwr\"])\n",
        "plt.title(\"Histogram of Bty_Pwr\")\n",
        "plt.xlabel(\"Bty_Pwr\")\n",
        "plt.ylabel(\"Frequency\")\n",
        "plt.axvline(data[\"Bty_Pwr\"].mean(), color='r', linestyle='dashed', linewidth=2)\n",
        "plt.axvline(data[\"Bty_Pwr\"].median(), color='k', linestyle='dashed', linewidth=2)\n",
        "plt.show()"
      ]
    },
    {
      "cell_type": "code",
      "execution_count": null,
      "metadata": {
        "id": "TS83YmlQN86f",
        "colab": {
          "base_uri": "https://localhost:8080/",
          "height": 472
        },
        "outputId": "dd83e2d6-d791-4797-fd03-19ea98b1e96c"
      },
      "outputs": [
        {
          "output_type": "display_data",
          "data": {
            "text/plain": [
              "<Figure size 640x480 with 1 Axes>"
            ],
            "image/png": "[encoded data removed]"
          },
          "metadata": {}
        }
      ],
      "source": [
        "# Create a histogram of the \"RAM\" feature and also show the mean and the median\n",
        "\n",
        "plt.hist(data[\"RAM\"])\n",
        "plt.title(\"Histogram of RAM\")\n",
        "plt.xlabel(\"RAM\")\n",
        "plt.ylabel(\"Frequency\")\n",
        "plt.axvline(data[\"RAM\"].mean(), color='r', linestyle='dashed', linewidth=2)\n",
        "plt.axvline(data[\"RAM\"].median(), color='k', linestyle='dashed', linewidth=2)\n",
        "plt.show()"
      ]
    },
    {
      "cell_type": "code",
      "execution_count": null,
      "metadata": {
        "id": "Ty-VGMoDN86g"
      },
      "outputs": [],
      "source": [
        "# The children want phones that have good internal memory, battery power and RAM\n",
        "# Consider the phones that have internal memory, battery power and RAM greater than or equal to their respective mean values\n",
        "# Create a logical condition for this situation and store the logical values as \"con5\"\n",
        "\n",
        "con5 = (data[\"Int_Mem\"] >= data[\"Int_Mem\"].mean()) & (data[\"Bty_Pwr\"] >= data[\"Bty_Pwr\"].mean()) & (data[\"RAM\"] >= data[\"RAM\"].mean())"
      ]
    },
    {
      "cell_type": "markdown",
      "source": [
        "Observations\n",
        "\n",
        "The features \"Int_Mem\", \"Bty_Pwr\" and \"RAM\" are respectively the internal memory, battery power and RAM of the phones.\n",
        "\n",
        "The respective means have been selected as thresholds in this case.\n",
        "\n",
        ".In case it is too strict, we can choose the respective medians as thresholds"
      ],
      "metadata": {
        "id": "u5RzvXKoSHaw"
      }
    },
    {
      "cell_type": "markdown",
      "source": [
        "# Task 7 - Obtain the logical conditions for the features \"Depth\" and \"Weight\""
      ],
      "metadata": {
        "id": "VVeYghyESO9y"
      }
    },
    {
      "cell_type": "code",
      "execution_count": null,
      "metadata": {
        "id": "07nm7-V1N86j"
      },
      "outputs": [],
      "source": [
        "# Let's tackle these features: \"Depth\", \"Weight\""
      ]
    },
    {
      "cell_type": "code",
      "execution_count": null,
      "metadata": {
        "id": "e88FFbusN86k",
        "colab": {
          "base_uri": "https://localhost:8080/",
          "height": 472
        },
        "outputId": "ae22f2a8-664f-4f28-8e75-7084f0f197b2"
      },
      "outputs": [
        {
          "output_type": "display_data",
          "data": {
            "text/plain": [
              "<Figure size 640x480 with 1 Axes>"
            ],
            "image/png": "[encoded data removed]"
          },
          "metadata": {}
        }
      ],
      "source": [
        "# Create a histogram of the \"Depth\" feature and also show the mean and the median\n",
        "\n",
        "plt.hist(data[\"Depth\"])\n",
        "plt.title(\"Histogram of Depth\")\n",
        "plt.xlabel(\"Depth\")\n",
        "plt.ylabel(\"Frequency\")\n",
        "plt.axvline(data[\"Depth\"].mean(), color='r', linestyle='dashed', linewidth=2)\n",
        "plt.axvline(data[\"Depth\"].median(), color='k', linestyle='dashed', linewidth=2)\n",
        "plt.show()"
      ]
    },
    {
      "cell_type": "code",
      "execution_count": null,
      "metadata": {
        "id": "-lXTqLttN86l",
        "colab": {
          "base_uri": "https://localhost:8080/",
          "height": 472
        },
        "outputId": "268b7245-e5a8-425b-f465-a8a7593ab1fc"
      },
      "outputs": [
        {
          "output_type": "display_data",
          "data": {
            "text/plain": [
              "<Figure size 640x480 with 1 Axes>"
            ],
            "image/png": "[encoded data removed]"
          },
          "metadata": {}
        }
      ],
      "source": [
        "# Create a histogram of the \"Weight\" feature and also show the mean and the median\n",
        "\n",
        "plt.hist(data[\"Weight\"])\n",
        "plt.title(\"Histogram of Weight\")\n",
        "plt.xlabel(\"Weight\")\n",
        "plt.ylabel(\"Frequency\")\n",
        "plt.axvline(data[\"Weight\"].mean(), color='r', linestyle='dashed', linewidth=2)\n",
        "plt.axvline(data[\"Weight\"].median(), color='k', linestyle='dashed', linewidth=2)\n",
        "plt.show()"
      ]
    },
    {
      "cell_type": "code",
      "execution_count": null,
      "metadata": {
        "id": "7ZYJmwzJN86l"
      },
      "outputs": [],
      "source": [
        "# The children want phones that are light weight and slim\n",
        "# Consider the phones that have depth and weight less than or equal to the respective median values in the data set\n",
        "# Create a logical condition for this situation and store the logical values as \"con6\"\n",
        "\n",
        "con6 = (data[\"Depth\"] <= data[\"Depth\"].median()) & (data[\"Weight\"] <= data[\"Weight\"].median())"
      ]
    },
    {
      "cell_type": "markdown",
      "source": [
        "Observations:\n",
        "\n",
        "The features \"Depth\" and \"Weight\" are respectively the depth of the phone and the weight of the phone.\n",
        "\n",
        "The respective medians have been selected as thresholds in this case.\n",
        "\n",
        "In case it is too strict, we can choose the respective means as thresholds."
      ],
      "metadata": {
        "id": "l32BIHsdSbHy"
      }
    },
    {
      "cell_type": "markdown",
      "source": [
        "# Task 8 - Subset the data based on all the logical conditions"
      ],
      "metadata": {
        "id": "3UYMHQseSjZp"
      }
    },
    {
      "cell_type": "code",
      "execution_count": null,
      "metadata": {
        "id": "iKFweH2xN86o"
      },
      "outputs": [],
      "source": [
        "# Subset the dataframe using all the logical conditions that have been stored\n",
        "# Store the subset of the dataframe as a new dataframe called \"df1\"\n",
        "\n",
        "df1 = data[con1 & con2 & con3 & con4 & con5 & con6]"
      ]
    },
    {
      "cell_type": "code",
      "execution_count": null,
      "metadata": {
        "id": "Y0Bp7BKkN86o",
        "colab": {
          "base_uri": "https://localhost:8080/"
        },
        "outputId": "da850b18-ab81-439b-ba9d-4d02668e22dd"
      },
      "outputs": [
        {
          "output_type": "execute_result",
          "data": {
            "text/plain": [
              "(0, 17)"
            ]
          },
          "metadata": {},
          "execution_count": 96
        }
      ],
      "source": [
        "# Get the dimensions of the dataframe\n",
        "\n",
        "df1.shape"
      ]
    },
    {
      "cell_type": "code",
      "execution_count": null,
      "metadata": {
        "id": "H5tg2OEkN86p",
        "colab": {
          "base_uri": "https://localhost:8080/",
          "height": 89
        },
        "outputId": "21dbbe4f-5f75-40eb-c998-a64259c71027"
      },
      "outputs": [
        {
          "output_type": "execute_result",
          "data": {
            "text/plain": [
              "Empty DataFrame\n",
              "Columns: [PID, Blue, Wi_Fi, Tch_Scr, Ext_Mem, Px_h, Px_w, Scr_h, Scr_w, PC, FC, Int_Mem, Bty_Pwr, RAM, Depth, Weight, Price]\n",
              "Index: []"
            ],
            "text/html": [
              "\n",
              "  <div id=\"df-8a30404e-f518-4ec8-9725-33f9d4966efb\" class=\"colab-df-container\">\n",
              "    <div>\n",
              "<style scoped>\n",
              "    .dataframe tbody tr th:only-of-type {\n",
              "        vertical-align: middle;\n",
              "    }\n",
              "\n",
              "    .dataframe tbody tr th {\n",
              "        vertical-align: top;\n",
              "    }\n",
              "\n",
              "    .dataframe thead th {\n",
              "        text-align: right;\n",
              "    }\n",
              "</style>\n",
              "<table border=\"1\" class=\"dataframe\">\n",
              "  <thead>\n",
              "    <tr style=\"text-align: right;\">\n",
              "      <th></th>\n",
              "      <th>PID</th>\n",
              "      <th>Blue</th>\n",
              "      <th>Wi_Fi</th>\n",
              "      <th>Tch_Scr</th>\n",
              "      <th>Ext_Mem</th>\n",
              "      <th>Px_h</th>\n",
              "      <th>Px_w</th>\n",
              "      <th>Scr_h</th>\n",
              "      <th>Scr_w</th>\n",
              "      <th>PC</th>\n",
              "      <th>FC</th>\n",
              "      <th>Int_Mem</th>\n",
              "      <th>Bty_Pwr</th>\n",
              "      <th>RAM</th>\n",
              "      <th>Depth</th>\n",
              "      <th>Weight</th>\n",
              "      <th>Price</th>\n",
              "    </tr>\n",
              "  </thead>\n",
              "  <tbody>\n",
              "  </tbody>\n",
              "</table>\n",
              "</div>\n",
              "    <div class=\"colab-df-buttons\">\n",
              "\n",
              "  <div class=\"colab-df-container\">\n",
              "    <button class=\"colab-df-convert\" onclick=\"convertToInteractive('df-8a30404e-f518-4ec8-9725-33f9d4966efb')\"\n",
              "            title=\"Convert this dataframe to an interactive table.\"\n",
              "            style=\"display:none;\">\n",
              "\n",
              "  <svg xmlns=\"http://www.w3.org/2000/svg\" height=\"24px\" viewBox=\"0 -960 960 960\">\n",
              "    <path d=\"M120-120v-720h720v720H120Zm60-500h600v-160H180v160Zm220 220h160v-160H400v160Zm0 220h160v-160H400v160ZM180-400h160v-160H180v160Zm440 0h160v-160H620v160ZM180-180h160v-160H180v160Zm440 0h160v-160H620v160Z\"/>\n",
              "  </svg>\n",
              "    </button>\n",
              "\n",
              "  <style>\n",
              "    .colab-df-container {\n",
              "      display:flex;\n",
              "      gap: 12px;\n",
              "    }\n",
              "\n",
              "    .colab-df-convert {\n",
              "      background-color: #E8F0FE;\n",
              "      border: none;\n",
              "      border-radius: 50%;\n",
              "      cursor: pointer;\n",
              "      display: none;\n",
              "      fill: #1967D2;\n",
              "      height: 32px;\n",
              "      padding: 0 0 0 0;\n",
              "      width: 32px;\n",
              "    }\n",
              "\n",
              "    .colab-df-convert:hover {\n",
              "      background-color: #E2EBFA;\n",
              "      box-shadow: 0px 1px 2px rgba(60, 64, 67, 0.3), 0px 1px 3px 1px rgba(60, 64, 67, 0.15);\n",
              "      fill: #174EA6;\n",
              "    }\n",
              "\n",
              "    .colab-df-buttons div {\n",
              "      margin-bottom: 4px;\n",
              "    }\n",
              "\n",
              "    [theme=dark] .colab-df-convert {\n",
              "      background-color: #3B4455;\n",
              "      fill: #D2E3FC;\n",
              "    }\n",
              "\n",
              "    [theme=dark] .colab-df-convert:hover {\n",
              "      background-color: #434B5C;\n",
              "      box-shadow: 0px 1px 3px 1px rgba(0, 0, 0, 0.15);\n",
              "      filter: drop-shadow(0px 1px 2px rgba(0, 0, 0, 0.3));\n",
              "      fill: #FFFFFF;\n",
              "    }\n",
              "  </style>\n",
              "\n",
              "    <script>\n",
              "      const buttonEl =\n",
              "        document.querySelector('#df-8a30404e-f518-4ec8-9725-33f9d4966efb button.colab-df-convert');\n",
              "      buttonEl.style.display =\n",
              "        google.colab.kernel.accessAllowed ? 'block' : 'none';\n",
              "\n",
              "      async function convertToInteractive(key) {\n",
              "        const element = document.querySelector('#df-8a30404e-f518-4ec8-9725-33f9d4966efb');\n",
              "        const dataTable =\n",
              "          await google.colab.kernel.invokeFunction('convertToInteractive',\n",
              "                                                    [key], {});\n",
              "        if (!dataTable) return;\n",
              "\n",
              "        const docLinkHtml = 'Like what you see? Visit the ' +\n",
              "          '<a target=\"_blank\" href=https://colab.research.google.com/notebooks/data_table.ipynb>data table notebook</a>'\n",
              "          + ' to learn more about interactive tables.';\n",
              "        element.innerHTML = '';\n",
              "        dataTable['output_type'] = 'display_data';\n",
              "        await google.colab.output.renderOutput(dataTable, element);\n",
              "        const docLink = document.createElement('div');\n",
              "        docLink.innerHTML = docLinkHtml;\n",
              "        element.appendChild(docLink);\n",
              "      }\n",
              "    </script>\n",
              "  </div>\n",
              "\n",
              "\n",
              "  <div id=\"id_d810e10e-75db-4948-97bd-dac8b504cccf\">\n",
              "    <style>\n",
              "      .colab-df-generate {\n",
              "        background-color: #E8F0FE;\n",
              "        border: none;\n",
              "        border-radius: 50%;\n",
              "        cursor: pointer;\n",
              "        display: none;\n",
              "        fill: #1967D2;\n",
              "        height: 32px;\n",
              "        padding: 0 0 0 0;\n",
              "        width: 32px;\n",
              "      }\n",
              "\n",
              "      .colab-df-generate:hover {\n",
              "        background-color: #E2EBFA;\n",
              "        box-shadow: 0px 1px 2px rgba(60, 64, 67, 0.3), 0px 1px 3px 1px rgba(60, 64, 67, 0.15);\n",
              "        fill: #174EA6;\n",
              "      }\n",
              "\n",
              "      [theme=dark] .colab-df-generate {\n",
              "        background-color: #3B4455;\n",
              "        fill: #D2E3FC;\n",
              "      }\n",
              "\n",
              "      [theme=dark] .colab-df-generate:hover {\n",
              "        background-color: #434B5C;\n",
              "        box-shadow: 0px 1px 3px 1px rgba(0, 0, 0, 0.15);\n",
              "        filter: drop-shadow(0px 1px 2px rgba(0, 0, 0, 0.3));\n",
              "        fill: #FFFFFF;\n",
              "      }\n",
              "    </style>\n",
              "    <button class=\"colab-df-generate\" onclick=\"generateWithVariable('df1')\"\n",
              "            title=\"Generate code using this dataframe.\"\n",
              "            style=\"display:none;\">\n",
              "\n",
              "  <svg xmlns=\"http://www.w3.org/2000/svg\" height=\"24px\"viewBox=\"0 0 24 24\"\n",
              "       width=\"24px\">\n",
              "    <path d=\"M7,19H8.4L18.45,9,17,7.55,7,17.6ZM5,21V16.75L18.45,3.32a2,2,0,0,1,2.83,0l1.4,1.43a1.91,1.91,0,0,1,.58,1.4,1.91,1.91,0,0,1-.58,1.4L9.25,21ZM18.45,9,17,7.55Zm-12,3A5.31,5.31,0,0,0,4.9,8.1,5.31,5.31,0,0,0,1,6.5,5.31,5.31,0,0,0,4.9,4.9,5.31,5.31,0,0,0,6.5,1,5.31,5.31,0,0,0,8.1,4.9,5.31,5.31,0,0,0,12,6.5,5.46,5.46,0,0,0,6.5,12Z\"/>\n",
              "  </svg>\n",
              "    </button>\n",
              "    <script>\n",
              "      (() => {\n",
              "      const buttonEl =\n",
              "        document.querySelector('#id_d810e10e-75db-4948-97bd-dac8b504cccf button.colab-df-generate');\n",
              "      buttonEl.style.display =\n",
              "        google.colab.kernel.accessAllowed ? 'block' : 'none';\n",
              "\n",
              "      buttonEl.onclick = () => {\n",
              "        google.colab.notebook.generateWithVariable('df1');\n",
              "      }\n",
              "      })();\n",
              "    </script>\n",
              "  </div>\n",
              "\n",
              "    </div>\n",
              "  </div>\n"
            ],
            "application/vnd.google.colaboratory.intrinsic+json": {
              "type": "dataframe",
              "variable_name": "df1",
              "repr_error": "Out of range float values are not JSON compliant: nan"
            }
          },
          "metadata": {},
          "execution_count": 97
        }
      ],
      "source": [
        "# Sort the dataframe according to the \"Price\" feature in ascending order and display it\n",
        "\n",
        "df1.sort_values(by=\"Price\", ascending=True)\n",
        "df1"
      ]
    },
    {
      "cell_type": "markdown",
      "source": [
        "Observations:\n",
        "\n",
        "Based on all the logical conditions obtained through analysis of the features, we are left with three phones.\n",
        "\n",
        "The most expensive of these phones is the \"TYS938L\" model and the least expensive is the \"TVF078Y\" model.\n",
        "\n",
        "We could let the children choose from these three phones as per their preferences."
      ],
      "metadata": {
        "id": "Zn6iT-HQSocg"
      }
    },
    {
      "cell_type": "markdown",
      "source": [
        "# Task 9 - Study the variability of the features in the original data set"
      ],
      "metadata": {
        "id": "O09ZVXlbSvhj"
      }
    },
    {
      "cell_type": "code",
      "execution_count": null,
      "metadata": {
        "id": "grfzKBDyN86r"
      },
      "outputs": [],
      "source": [
        "# Calculate the ratio of the standard deviation to the mean for all the numerical features in the dataframe\n",
        "# Store these values in a new series wherein the rows are the features and the only column is the calculated ratio\n",
        "# Name the series as \"deviations\"\n",
        "\n",
        "deviations = pd.Series(index=data.columns, dtype='float64')"
      ]
    },
    {
      "cell_type": "code",
      "execution_count": null,
      "metadata": {
        "id": "sBRqrnVaN86s",
        "colab": {
          "base_uri": "https://localhost:8080/"
        },
        "outputId": "c9276c26-e6f1-44fb-8d7c-eb06602827a1"
      },
      "outputs": [
        {
          "output_type": "execute_result",
          "data": {
            "text/plain": [
              "PID       NaN\n",
              "Blue      NaN\n",
              "Wi_Fi     NaN\n",
              "Tch_Scr   NaN\n",
              "Ext_Mem   NaN\n",
              "Px_h      NaN\n",
              "Px_w      NaN\n",
              "Scr_h     NaN\n",
              "Scr_w     NaN\n",
              "PC        NaN\n",
              "FC        NaN\n",
              "Int_Mem   NaN\n",
              "Bty_Pwr   NaN\n",
              "RAM       NaN\n",
              "Depth     NaN\n",
              "Weight    NaN\n",
              "Price     NaN\n",
              "dtype: float64"
            ]
          },
          "metadata": {},
          "execution_count": 99
        }
      ],
      "source": [
        "# View the \"deviations\" series after sorting it in descending order\n",
        "\n",
        "deviations.sort_values(ascending=False)"
      ]
    },
    {
      "cell_type": "markdown",
      "source": [
        "Observations:\n",
        "\n",
        "The ratio of the standard deviation to the mean of a feature normalises it in a way.\n",
        "\n",
        "This allows for comparison between multiple features.\n",
        "\n",
        "The most variable feature in the original data set is the internal memory of the phones.\n",
        "\n",
        "The least variable feature in the original data set is the number of screen pixels in the horizontal axis.\n",
        "\n",
        "Although most features don't seem so variable, the prices of the phones are quite variable.\n",
        "\n",
        "Feel free to investigate what could be the cause of this difference in variability.\n",
        "\n",
        "Note: We encourage you to extend this analysis further and see what else you can find.\n",
        "\n",
        "Note: Please refer to the official website of Python and its libraries for various Python documentations."
      ],
      "metadata": {
        "id": "RSypqWHuSzJU"
      }
    },
    {
      "cell_type": "markdown",
      "source": [
        "# Conclusion\n",
        "1. We have used concepts of descriptive statistics to study and work with a data set that contains mobile phone specifications.\n",
        "\n",
        "2. We were able to recommend three phone models to the client which she can then propose to her children."
      ],
      "metadata": {
        "id": "kE4_U-R9TI_d"
      }
    }
  ],
  "metadata": {
    "colab": {
      "provenance": [],
      "include_colab_link": true
    },
    "kernelspec": {
      "display_name": "Python 3",
      "language": "python",
      "name": "python3"
    },
    "language_info": {
      "codemirror_mode": {
        "name": "ipython",
        "version": 3
      },
      "file_extension": ".py",
      "mimetype": "text/x-python",
      "name": "python",
      "nbconvert_exporter": "python",
      "pygments_lexer": "ipython3",
      "version": "3.8.8"
    }
  },
  "nbformat": 4,
  "nbformat_minor": 0
}