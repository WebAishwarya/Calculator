{
  "nbformat": 4,
  "nbformat_minor": 0,
  "metadata": {
    "colab": {
      "provenance": [],
      "authorship_tag": "ABX9TyMCABH4MbuMoGGH9sVCsszk",
      "include_colab_link": true
    },
    "kernelspec": {
      "name": "python3",
      "display_name": "Python 3"
    },
    "language_info": {
      "name": "python"
    }
  },
  "cells": [
    {
      "cell_type": "markdown",
      "metadata": {
        "id": "view-in-github",
        "colab_type": "text"
      },
      "source": [
        "<a href=\"https://colab.research.google.com/github/WebAishwarya/Data-Analyst_Unified-Mentor/blob/main/Python_Data_Structures_Day4_UnifiedMentor.ipynb\" target=\"_parent\"><img src=\"https://colab.research.google.com/assets/colab-badge.svg\" alt=\"Open In Colab\"/></a>"
      ]
    },
    {
      "cell_type": "markdown",
      "source": [
        "# DAY 4\n",
        "\n",
        "---\n",
        "\n"
      ],
      "metadata": {
        "id": "iNGDDfwImXRZ"
      }
    },
    {
      "cell_type": "markdown",
      "source": [
        "# Ordered & Unoredered Data Structures"
      ],
      "metadata": {
        "id": "_8xqstiGnenA"
      }
    },
    {
      "cell_type": "markdown",
      "source": [
        "# 4.1 Tuple & it's methods\n",
        "\n",
        "\n",
        "*   They are used to store multiple items in a single variable.\n",
        "*   A tuple is a collection which is ordered and unchangeable.\n",
        "It is written with round brackets."
      ],
      "metadata": {
        "id": "_CYMPuu1nqzu"
      }
    },
    {
      "cell_type": "code",
      "source": [
        "fruits = (\"apple\", \"banana\", \"cherry\")                           # Standard Method\n",
        "print(fruits)"
      ],
      "metadata": {
        "colab": {
          "base_uri": "https://localhost:8080/"
        },
        "id": "zTpM1lVjoGZC",
        "outputId": "3f88f1fd-b89e-4d73-c998-1b07dc7bc29a"
      },
      "execution_count": null,
      "outputs": [
        {
          "output_type": "stream",
          "name": "stdout",
          "text": [
            "('apple', 'banana', 'cherry')\n"
          ]
        }
      ]
    },
    {
      "cell_type": "code",
      "source": [
        "fruits = (\"apple\", \"banana\", \"cherry\",\"banana\")                  # Allows Duplicates\n",
        "print(fruits)"
      ],
      "metadata": {
        "colab": {
          "base_uri": "https://localhost:8080/"
        },
        "id": "3JsgdoxUom5U",
        "outputId": "387f8af2-5f5c-4556-9b48-01a3381c25cd"
      },
      "execution_count": null,
      "outputs": [
        {
          "output_type": "stream",
          "name": "stdout",
          "text": [
            "('apple', 'banana', 'cherry', 'banana')\n"
          ]
        }
      ]
    },
    {
      "cell_type": "markdown",
      "source": [
        "**Count() Method**"
      ],
      "metadata": {
        "id": "DPp20kbso_vj"
      }
    },
    {
      "cell_type": "code",
      "source": [
        "nums = (1, 3, 7, 8, 7, 5, 4, 6, 8, 5)\n",
        "\n",
        "nums.count(5)"
      ],
      "metadata": {
        "colab": {
          "base_uri": "https://localhost:8080/"
        },
        "id": "RW_tlYOCom9K",
        "outputId": "071938f9-a675-4159-ee47-88b01e33a4ef"
      },
      "execution_count": null,
      "outputs": [
        {
          "output_type": "execute_result",
          "data": {
            "text/plain": [
              "2"
            ]
          },
          "metadata": {},
          "execution_count": 4
        }
      ]
    },
    {
      "cell_type": "markdown",
      "source": [
        "**Index() Method**"
      ],
      "metadata": {
        "id": "dyIY7mJ5pECb"
      }
    },
    {
      "cell_type": "code",
      "source": [
        "nums = (1, 3, 7, 8, 7, 5, 4, 6, 8, 5)\n",
        "\n",
        "nums.index(4)"
      ],
      "metadata": {
        "colab": {
          "base_uri": "https://localhost:8080/"
        },
        "id": "kUA1TZUYonAw",
        "outputId": "3e60ae30-bfe5-43e6-dd76-5c5e9e091522"
      },
      "execution_count": null,
      "outputs": [
        {
          "output_type": "execute_result",
          "data": {
            "text/plain": [
              "6"
            ]
          },
          "metadata": {},
          "execution_count": 6
        }
      ]
    },
    {
      "cell_type": "markdown",
      "source": [
        "**Min() & Max() Method**"
      ],
      "metadata": {
        "id": "MCP2PqilpKwc"
      }
    },
    {
      "cell_type": "code",
      "source": [
        "nums = (1, 3, 7, 99, 7, 5, 4, 6, 8, 5)"
      ],
      "metadata": {
        "id": "67VD77NFonD4"
      },
      "execution_count": null,
      "outputs": []
    },
    {
      "cell_type": "code",
      "source": [
        "min(nums)"
      ],
      "metadata": {
        "colab": {
          "base_uri": "https://localhost:8080/"
        },
        "id": "ikAqsmB_pvnW",
        "outputId": "d3846c1a-a7ef-4dd3-95c6-0a2265417fc5"
      },
      "execution_count": null,
      "outputs": [
        {
          "output_type": "execute_result",
          "data": {
            "text/plain": [
              "1"
            ]
          },
          "metadata": {},
          "execution_count": 10
        }
      ]
    },
    {
      "cell_type": "code",
      "source": [
        "max(nums)"
      ],
      "metadata": {
        "colab": {
          "base_uri": "https://localhost:8080/"
        },
        "id": "nejqfiOEpw2-",
        "outputId": "baaf697c-eb1f-4f27-943c-846eee038103"
      },
      "execution_count": null,
      "outputs": [
        {
          "output_type": "execute_result",
          "data": {
            "text/plain": [
              "99"
            ]
          },
          "metadata": {},
          "execution_count": 11
        }
      ]
    },
    {
      "cell_type": "markdown",
      "source": [
        "**Tuple() Method**"
      ],
      "metadata": {
        "id": "UFrhIwdxqJ_7"
      }
    },
    {
      "cell_type": "code",
      "source": [
        "ints = tuple([1,2,3,4,5,9,7,2,0])"
      ],
      "metadata": {
        "id": "YruSevhroGly"
      },
      "execution_count": null,
      "outputs": []
    },
    {
      "cell_type": "code",
      "source": [
        "ints"
      ],
      "metadata": {
        "colab": {
          "base_uri": "https://localhost:8080/"
        },
        "id": "bMMGf6oIoGwy",
        "outputId": "f3eb47ab-34c4-4dcb-d9c8-863ecb25dba3"
      },
      "execution_count": null,
      "outputs": [
        {
          "output_type": "execute_result",
          "data": {
            "text/plain": [
              "(1, 2, 3, 4, 5, 9, 7, 2, 0)"
            ]
          },
          "metadata": {},
          "execution_count": 13
        }
      ]
    },
    {
      "cell_type": "markdown",
      "source": [
        "# 4.2 Dictionary & it's methods\n",
        "\n",
        "\n",
        "*   Dictionaries are used to store data values in key:value pairs.\n",
        "*   A dictionary is a collection which is ordered*, changeable and do not allow duplicates.\n",
        "\n"
      ],
      "metadata": {
        "id": "M7k-UteXn5k5"
      }
    },
    {
      "cell_type": "code",
      "source": [
        "car = {\"brand\": \"Ford\",\"model\": \"Mustang\",\"year\": 1964}"
      ],
      "metadata": {
        "id": "ICs7cV31oHik"
      },
      "execution_count": null,
      "outputs": []
    },
    {
      "cell_type": "code",
      "source": [
        "# Get() Method\n",
        "car.get(\"year\")"
      ],
      "metadata": {
        "colab": {
          "base_uri": "https://localhost:8080/"
        },
        "id": "iAMD5XubsOjY",
        "outputId": "4eec832a-fd80-4aa0-d359-6bfca1da989a"
      },
      "execution_count": null,
      "outputs": [
        {
          "output_type": "execute_result",
          "data": {
            "text/plain": [
              "1964"
            ]
          },
          "metadata": {},
          "execution_count": 16
        }
      ]
    },
    {
      "cell_type": "code",
      "source": [
        "# items() Method\n",
        "car.items()"
      ],
      "metadata": {
        "colab": {
          "base_uri": "https://localhost:8080/"
        },
        "id": "gXG2QpznsOn-",
        "outputId": "4bf2d2ce-ab76-468e-9f6f-67c9be1831c9"
      },
      "execution_count": null,
      "outputs": [
        {
          "output_type": "execute_result",
          "data": {
            "text/plain": [
              "dict_items([('brand', 'Ford'), ('model', 'Mustang'), ('year', 1964)])"
            ]
          },
          "metadata": {},
          "execution_count": 17
        }
      ]
    },
    {
      "cell_type": "code",
      "source": [
        "# key() Method\n",
        "car.keys()"
      ],
      "metadata": {
        "colab": {
          "base_uri": "https://localhost:8080/"
        },
        "id": "09Tbp4a3sOsW",
        "outputId": "691024d3-cd09-4d77-d057-c733ce69cb3e"
      },
      "execution_count": null,
      "outputs": [
        {
          "output_type": "execute_result",
          "data": {
            "text/plain": [
              "dict_keys(['brand', 'model', 'year'])"
            ]
          },
          "metadata": {},
          "execution_count": 18
        }
      ]
    },
    {
      "cell_type": "code",
      "source": [
        "# values() Method\n",
        "car.values()"
      ],
      "metadata": {
        "colab": {
          "base_uri": "https://localhost:8080/"
        },
        "id": "DhioHI0isOwj",
        "outputId": "0ef941a6-d488-4cb1-99ab-c276c03a58bb"
      },
      "execution_count": null,
      "outputs": [
        {
          "output_type": "execute_result",
          "data": {
            "text/plain": [
              "dict_values(['Ford', 'Mustang', 1964])"
            ]
          },
          "metadata": {},
          "execution_count": 19
        }
      ]
    },
    {
      "cell_type": "code",
      "source": [
        "# pop() Method\n",
        "car.pop(\"year\")\n",
        "print(car)"
      ],
      "metadata": {
        "colab": {
          "base_uri": "https://localhost:8080/"
        },
        "id": "ebO-zAFcsO0e",
        "outputId": "ab4c9324-e024-4d68-c9c0-23f262c5fed6"
      },
      "execution_count": null,
      "outputs": [
        {
          "output_type": "stream",
          "name": "stdout",
          "text": [
            "{'brand': 'Ford', 'model': 'Mustang'}\n"
          ]
        }
      ]
    },
    {
      "cell_type": "code",
      "source": [
        "# popitem() Method\n",
        "\n",
        "car.popitem()\n",
        "print(car)"
      ],
      "metadata": {
        "colab": {
          "base_uri": "https://localhost:8080/"
        },
        "id": "xsQxKA-QoHtq",
        "outputId": "4f2175a5-c15f-45c9-d3eb-1625f16e2b32"
      },
      "execution_count": null,
      "outputs": [
        {
          "output_type": "stream",
          "name": "stdout",
          "text": [
            "{'brand': 'Ford'}\n"
          ]
        }
      ]
    },
    {
      "cell_type": "code",
      "source": [
        "# update() Method\n",
        "\n",
        "car.update({\"color\": \"White\"})\n",
        "print(car)"
      ],
      "metadata": {
        "colab": {
          "base_uri": "https://localhost:8080/"
        },
        "id": "tWVx_Cu2oH28",
        "outputId": "671c8aa8-f742-49db-f359-36f10afdd89a"
      },
      "execution_count": null,
      "outputs": [
        {
          "output_type": "stream",
          "name": "stdout",
          "text": [
            "{'brand': 'Ford', 'color': 'White'}\n"
          ]
        }
      ]
    },
    {
      "cell_type": "code",
      "source": [
        "# clear() Method\n",
        "\n",
        "car.clear()\n",
        "print(car)"
      ],
      "metadata": {
        "colab": {
          "base_uri": "https://localhost:8080/"
        },
        "id": "1UQRoiUGqtC5",
        "outputId": "c1d83e6e-37b5-4cab-b271-fd81eca025c1"
      },
      "execution_count": null,
      "outputs": [
        {
          "output_type": "stream",
          "name": "stdout",
          "text": [
            "{}\n"
          ]
        }
      ]
    },
    {
      "cell_type": "code",
      "source": [
        "car"
      ],
      "metadata": {
        "colab": {
          "base_uri": "https://localhost:8080/"
        },
        "id": "BdvEFs5quJS_",
        "outputId": "95e471f0-e157-48bb-98b2-6077c7da7e95"
      },
      "execution_count": null,
      "outputs": [
        {
          "output_type": "execute_result",
          "data": {
            "text/plain": [
              "{}"
            ]
          },
          "metadata": {},
          "execution_count": 34
        }
      ]
    },
    {
      "cell_type": "markdown",
      "source": [
        "# 4.3 Set & it's methods\n",
        "\n",
        "*   Sets are used to store multiple items in a single variable.\n",
        "*   Sets are written with curly brackets."
      ],
      "metadata": {
        "id": "8UNXIdFan5yC"
      }
    },
    {
      "cell_type": "code",
      "execution_count": null,
      "metadata": {
        "colab": {
          "base_uri": "https://localhost:8080/"
        },
        "id": "qDIn7qiwmJ9m",
        "outputId": "099b1eeb-cd0d-4a1d-d3dd-4902efbc2503"
      },
      "outputs": [
        {
          "output_type": "stream",
          "name": "stdout",
          "text": [
            "{'cherry', 'banana', 'apple'}\n"
          ]
        }
      ],
      "source": [
        "fruits = {\"apple\", \"banana\", \"cherry\"}\n",
        "print(fruits)"
      ]
    },
    {
      "cell_type": "code",
      "source": [
        "type(fruits)"
      ],
      "metadata": {
        "colab": {
          "base_uri": "https://localhost:8080/"
        },
        "id": "YqICbuY3ue-H",
        "outputId": "acecbff3-fced-41ae-bc8f-f5a64c5a0669"
      },
      "execution_count": null,
      "outputs": [
        {
          "output_type": "execute_result",
          "data": {
            "text/plain": [
              "set"
            ]
          },
          "metadata": {},
          "execution_count": 40
        }
      ]
    },
    {
      "cell_type": "code",
      "source": [
        "# add()\n",
        "\n",
        "fruits.add(\"orange\")\n",
        "print(fruits)"
      ],
      "metadata": {
        "colab": {
          "base_uri": "https://localhost:8080/"
        },
        "id": "wISDNPnFvoe9",
        "outputId": "73d4d84b-831e-403f-b6fe-76a2a8227083"
      },
      "execution_count": null,
      "outputs": [
        {
          "output_type": "stream",
          "name": "stdout",
          "text": [
            "{'cherry', 'orange', 'banana', 'apple'}\n"
          ]
        }
      ]
    },
    {
      "cell_type": "code",
      "source": [
        "# pop()\n",
        "\n",
        "fruits.pop()\n",
        "print(fruits)"
      ],
      "metadata": {
        "colab": {
          "base_uri": "https://localhost:8080/"
        },
        "id": "_ZHcbr_cvojO",
        "outputId": "c18988b8-28cd-4cda-c56b-4ac863a7501b"
      },
      "execution_count": null,
      "outputs": [
        {
          "output_type": "stream",
          "name": "stdout",
          "text": [
            "{'orange', 'banana', 'apple'}\n"
          ]
        }
      ]
    },
    {
      "cell_type": "code",
      "source": [
        "# remove()\n",
        "\n",
        "fruits.remove(\"banana\")\n",
        "print(fruits)"
      ],
      "metadata": {
        "colab": {
          "base_uri": "https://localhost:8080/"
        },
        "id": "NTMx3cssvonL",
        "outputId": "44b72922-ebd6-45e8-cd90-197c982e05de"
      },
      "execution_count": null,
      "outputs": [
        {
          "output_type": "stream",
          "name": "stdout",
          "text": [
            "{'orange', 'apple'}\n"
          ]
        }
      ]
    },
    {
      "cell_type": "code",
      "source": [
        "# difference()\n",
        "x = {\"apple\", \"banana\", \"cherry\"}\n",
        "y = {\"google\", \"microsoft\", \"apple\"}\n",
        "\n",
        "print(x.difference(y))       # Output will be from LHS of dot set only"
      ],
      "metadata": {
        "colab": {
          "base_uri": "https://localhost:8080/"
        },
        "id": "tuJxB89LufB8",
        "outputId": "e6e7a359-d99c-4a8f-8fd8-78a1babb123d"
      },
      "execution_count": null,
      "outputs": [
        {
          "output_type": "stream",
          "name": "stdout",
          "text": [
            "{'banana', 'cherry'}\n"
          ]
        }
      ]
    },
    {
      "cell_type": "code",
      "source": [
        "# intersection()\n",
        "\n",
        "print(x.intersection(y))      # Print common element from both the sets"
      ],
      "metadata": {
        "colab": {
          "base_uri": "https://localhost:8080/"
        },
        "id": "wbKJCq9uufGB",
        "outputId": "edda3073-4a97-4bfd-b336-d9fe782f36b3"
      },
      "execution_count": null,
      "outputs": [
        {
          "output_type": "stream",
          "name": "stdout",
          "text": [
            "{'apple'}\n"
          ]
        }
      ]
    },
    {
      "cell_type": "code",
      "source": [
        "# union()\n",
        "\n",
        "print(x.union(y))        # Combine both sets together to form new set"
      ],
      "metadata": {
        "colab": {
          "base_uri": "https://localhost:8080/"
        },
        "id": "xQsuTBXKufKK",
        "outputId": "0c9cd703-c58d-4654-ea11-b975c90e3478"
      },
      "execution_count": null,
      "outputs": [
        {
          "output_type": "stream",
          "name": "stdout",
          "text": [
            "{'microsoft', 'apple', 'banana', 'google', 'cherry'}\n"
          ]
        }
      ]
    },
    {
      "cell_type": "code",
      "source": [
        "# upate()\n",
        "\n",
        "x.update(y)\n",
        "print(x)"
      ],
      "metadata": {
        "colab": {
          "base_uri": "https://localhost:8080/"
        },
        "id": "ftaJigE8ufNg",
        "outputId": "61e031d0-bc14-407c-e90a-1e34eb622d7b"
      },
      "execution_count": null,
      "outputs": [
        {
          "output_type": "stream",
          "name": "stdout",
          "text": [
            "{'microsoft', 'apple', 'banana', 'google', 'cherry'}\n"
          ]
        }
      ]
    },
    {
      "cell_type": "code",
      "source": [
        "x"
      ],
      "metadata": {
        "colab": {
          "base_uri": "https://localhost:8080/"
        },
        "id": "KccqXfifuo5I",
        "outputId": "8c75848b-50e5-4b6b-91bb-17dfeef7e600"
      },
      "execution_count": null,
      "outputs": [
        {
          "output_type": "execute_result",
          "data": {
            "text/plain": [
              "{'apple', 'banana', 'cherry', 'google', 'microsoft'}"
            ]
          },
          "metadata": {},
          "execution_count": 52
        }
      ]
    },
    {
      "cell_type": "code",
      "source": [
        "y"
      ],
      "metadata": {
        "colab": {
          "base_uri": "https://localhost:8080/"
        },
        "id": "bkhW6YGwuo8k",
        "outputId": "8399c30c-43cd-458a-90f4-c8588f600682"
      },
      "execution_count": null,
      "outputs": [
        {
          "output_type": "execute_result",
          "data": {
            "text/plain": [
              "{'apple', 'google', 'microsoft'}"
            ]
          },
          "metadata": {},
          "execution_count": 53
        }
      ]
    },
    {
      "cell_type": "code",
      "source": [
        "y.update(x)\n",
        "print(y)"
      ],
      "metadata": {
        "colab": {
          "base_uri": "https://localhost:8080/"
        },
        "id": "XcAdfcA8yUJe",
        "outputId": "2c0ab073-bdc0-4150-93b5-f3ad12cb091e"
      },
      "execution_count": null,
      "outputs": [
        {
          "output_type": "stream",
          "name": "stdout",
          "text": [
            "{'microsoft', 'apple', 'banana', 'google', 'cherry'}\n"
          ]
        }
      ]
    }
  ]
}